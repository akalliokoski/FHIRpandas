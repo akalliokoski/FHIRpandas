{
 "cells": [
  {
   "cell_type": "markdown",
   "metadata": {},
   "source": [
    "https://blog.algorexhealth.com/2018/08/calculating-growth-and-obesity-from-fhir-messages/"
   ]
  },
  {
   "cell_type": "code",
   "execution_count": 3,
   "metadata": {},
   "outputs": [],
   "source": [
    "from pathlib import Path\n",
    "import json\n",
    "import fhirclient.models.bundle as b\n",
    "import fhirclient.models.patient as p\n",
    "from fhirclient.models.fhirabstractbase import FHIRValidationError\n",
    "\n",
    "#alt.renderers.enable('notebook')\n",
    "\n",
    "%matplotlib inline"
   ]
  },
  {
   "cell_type": "code",
   "execution_count": null,
   "metadata": {},
   "outputs": [],
   "source": []
  },
  {
   "cell_type": "code",
   "execution_count": 4,
   "metadata": {},
   "outputs": [],
   "source": [
    "def load_bundle(path):\n",
    "    try:\n",
    "        with open(path) as file:\n",
    "            json_data = json.load(file)\n",
    "            bundle = b.Bundle(json_data)\n",
    "    except FHIRValidationError:\n",
    "        print(f'Skipping invalid FHIR data in {path}')\n",
    "        bundle = None\n",
    "    except:\n",
    "        print(f'Unexpected error: {sys.exc_info()[0]}')\n",
    "        raise\n",
    "    return bundle"
   ]
  },
  {
   "cell_type": "code",
   "execution_count": 5,
   "metadata": {},
   "outputs": [
    {
     "name": "stdout",
     "output_type": "stream",
     "text": [
      "Skipping invalid FHIR data in data/10-patients/fhir/Candance389_Considine820_12ce02e5-bb90-4752-ae0b-5034d8b3e502.json\n",
      "Loaded 9 FHIR Bundles\n"
     ]
    }
   ],
   "source": [
    "json_path = Path(\"./data/10-patients/fhir\")\n",
    "bundles = {p.stem:load_bundle(p) for p in json_path.glob('*.json')}\n",
    "# remove missing bundles\n",
    "bundles = {key:value for key, value in bundles.items() if value != None}\n",
    "print(f'Loaded {len(bundles)} FHIR Bundles')"
   ]
  },
  {
   "cell_type": "code",
   "execution_count": 6,
   "metadata": {},
   "outputs": [],
   "source": [
    "def _getResources(bundle, resource_type):\n",
    "    return [entry.resource for entry in bundle.entry if entry.resource.resource_type == resource_type]"
   ]
  },
  {
   "cell_type": "code",
   "execution_count": 7,
   "metadata": {},
   "outputs": [],
   "source": [
    "def _appendResources(acc, bundle, resourceType):\n",
    "    acc.extend(_getResources(bundle, resourceType))\n",
    "    return acc\n",
    "\n",
    "from functools import *\n",
    "def getResources(bundles, resourceType):\n",
    "    resources = reduce(\n",
    "        lambda acc, bundle: _appendResources(acc, bundle, resourceType),\n",
    "        bundles,\n",
    "        [])\n",
    "    \n",
    "    ids = [r.id for r in resources]\n",
    "    missing_ids = any([r.id == None for r in resources])\n",
    "    if (missing_ids):\n",
    "        ids = None\n",
    "        \n",
    "    return (resources, ids)"
   ]
  },
  {
   "cell_type": "code",
   "execution_count": 8,
   "metadata": {},
   "outputs": [],
   "source": [
    "patients, patient_ids = getResources(bundles.values(), \"Patient\")"
   ]
  },
  {
   "cell_type": "code",
   "execution_count": 9,
   "metadata": {},
   "outputs": [],
   "source": [
    "conditions, condition_ids = getResources(bundles.values(), \"Condition\")"
   ]
  },
  {
   "cell_type": "code",
   "execution_count": 10,
   "metadata": {},
   "outputs": [
    {
     "data": {
      "text/plain": [
       "79"
      ]
     },
     "execution_count": 10,
     "metadata": {},
     "output_type": "execute_result"
    }
   ],
   "source": [
    "len(conditions)"
   ]
  },
  {
   "cell_type": "code",
   "execution_count": null,
   "metadata": {},
   "outputs": [],
   "source": [
    "bundle"
   ]
  },
  {
   "cell_type": "code",
   "execution_count": 71,
   "metadata": {},
   "outputs": [
    {
     "data": {
      "text/plain": [
       "'Body mass index 30+ - obesity (finding)'"
      ]
     },
     "execution_count": 71,
     "metadata": {},
     "output_type": "execute_result"
    }
   ],
   "source": [
    "c.code.text"
   ]
  },
  {
   "cell_type": "code",
   "execution_count": 104,
   "metadata": {},
   "outputs": [],
   "source": [
    "encounters, encounter_ids = getResources(bundles.values(), \"Encounter\")\n",
    "    "
   ]
  },
  {
   "cell_type": "code",
   "execution_count": 105,
   "metadata": {},
   "outputs": [
    {
     "data": {
      "text/plain": [
       "list"
      ]
     },
     "execution_count": 105,
     "metadata": {},
     "output_type": "execute_result"
    }
   ],
   "source": [
    "type(encounter_ids)"
   ]
  },
  {
   "cell_type": "code",
   "execution_count": 106,
   "metadata": {},
   "outputs": [],
   "source": [
    "e = encounters[0]"
   ]
  },
  {
   "cell_type": "code",
   "execution_count": 149,
   "metadata": {},
   "outputs": [
    {
     "data": {
      "text/plain": [
       "['__class__',\n",
       " '__delattr__',\n",
       " '__dict__',\n",
       " '__dir__',\n",
       " '__doc__',\n",
       " '__eq__',\n",
       " '__format__',\n",
       " '__ge__',\n",
       " '__getattribute__',\n",
       " '__gt__',\n",
       " '__hash__',\n",
       " '__init__',\n",
       " '__init_subclass__',\n",
       " '__le__',\n",
       " '__lt__',\n",
       " '__module__',\n",
       " '__ne__',\n",
       " '__new__',\n",
       " '__reduce__',\n",
       " '__reduce_ex__',\n",
       " '__repr__',\n",
       " '__setattr__',\n",
       " '__sizeof__',\n",
       " '__str__',\n",
       " '__subclasshook__',\n",
       " '__weakref__',\n",
       " '_matches_type',\n",
       " '_owner',\n",
       " '_resolved',\n",
       " '_server',\n",
       " '_with_json_dict',\n",
       " 'account',\n",
       " 'appointment',\n",
       " 'as_json',\n",
       " 'classHistory',\n",
       " 'class_fhir',\n",
       " 'contained',\n",
       " 'create',\n",
       " 'delete',\n",
       " 'diagnosis',\n",
       " 'didResolveReference',\n",
       " 'elementProperties',\n",
       " 'episodeOfCare',\n",
       " 'extension',\n",
       " 'hospitalization',\n",
       " 'id',\n",
       " 'identifier',\n",
       " 'implicitRules',\n",
       " 'incomingReferral',\n",
       " 'language',\n",
       " 'length',\n",
       " 'location',\n",
       " 'meta',\n",
       " 'modifierExtension',\n",
       " 'owningBundle',\n",
       " 'owningResource',\n",
       " 'partOf',\n",
       " 'participant',\n",
       " 'period',\n",
       " 'priority',\n",
       " 'read',\n",
       " 'read_from',\n",
       " 'reason',\n",
       " 'relativeBase',\n",
       " 'relativePath',\n",
       " 'resolvedReference',\n",
       " 'resource_type',\n",
       " 'search',\n",
       " 'server',\n",
       " 'serviceProvider',\n",
       " 'status',\n",
       " 'statusHistory',\n",
       " 'subject',\n",
       " 'text',\n",
       " 'type',\n",
       " 'update',\n",
       " 'update_with_json',\n",
       " 'where',\n",
       " 'with_json',\n",
       " 'with_json_and_owner']"
      ]
     },
     "execution_count": 149,
     "metadata": {},
     "output_type": "execute_result"
    }
   ],
   "source": [
    "dir(e)"
   ]
  },
  {
   "cell_type": "code",
   "execution_count": 166,
   "metadata": {},
   "outputs": [
    {
     "data": {
      "text/plain": [
       "['__class__',\n",
       " '__delattr__',\n",
       " '__dict__',\n",
       " '__dir__',\n",
       " '__doc__',\n",
       " '__eq__',\n",
       " '__format__',\n",
       " '__ge__',\n",
       " '__getattribute__',\n",
       " '__gt__',\n",
       " '__hash__',\n",
       " '__init__',\n",
       " '__init_subclass__',\n",
       " '__le__',\n",
       " '__lt__',\n",
       " '__module__',\n",
       " '__ne__',\n",
       " '__new__',\n",
       " '__reduce__',\n",
       " '__reduce_ex__',\n",
       " '__repr__',\n",
       " '__setattr__',\n",
       " '__sizeof__',\n",
       " '__str__',\n",
       " '__subclasshook__',\n",
       " '__weakref__',\n",
       " '_matches_type',\n",
       " '_owner',\n",
       " '_resolved',\n",
       " '_with_json_dict',\n",
       " 'as_json',\n",
       " 'coding',\n",
       " 'didResolveReference',\n",
       " 'elementProperties',\n",
       " 'extension',\n",
       " 'id',\n",
       " 'owningBundle',\n",
       " 'owningResource',\n",
       " 'resolvedReference',\n",
       " 'resource_type',\n",
       " 'text',\n",
       " 'update_with_json',\n",
       " 'with_json',\n",
       " 'with_json_and_owner']"
      ]
     },
     "execution_count": 166,
     "metadata": {},
     "output_type": "execute_result"
    }
   ],
   "source": [
    "dir(encounters[14].reason[0])"
   ]
  },
  {
   "cell_type": "code",
   "execution_count": 185,
   "metadata": {},
   "outputs": [],
   "source": [
    "encounters[14].reason[0].text"
   ]
  },
  {
   "cell_type": "code",
   "execution_count": 116,
   "metadata": {},
   "outputs": [
    {
     "data": {
      "text/plain": [
       "datetime.datetime"
      ]
     },
     "execution_count": 116,
     "metadata": {},
     "output_type": "execute_result"
    }
   ],
   "source": [
    "type(e.period.start.date)"
   ]
  },
  {
   "cell_type": "code",
   "execution_count": 122,
   "metadata": {},
   "outputs": [
    {
     "data": {
      "text/plain": [
       "['__class__',\n",
       " '__delattr__',\n",
       " '__dict__',\n",
       " '__dir__',\n",
       " '__doc__',\n",
       " '__eq__',\n",
       " '__format__',\n",
       " '__ge__',\n",
       " '__getattribute__',\n",
       " '__gt__',\n",
       " '__hash__',\n",
       " '__init__',\n",
       " '__init_subclass__',\n",
       " '__le__',\n",
       " '__lt__',\n",
       " '__module__',\n",
       " '__ne__',\n",
       " '__new__',\n",
       " '__reduce__',\n",
       " '__reduce_ex__',\n",
       " '__repr__',\n",
       " '__setattr__',\n",
       " '__sizeof__',\n",
       " '__str__',\n",
       " '__subclasshook__',\n",
       " '__weakref__',\n",
       " '_matches_type',\n",
       " '_owner',\n",
       " '_resolved',\n",
       " '_server',\n",
       " '_with_json_dict',\n",
       " 'account',\n",
       " 'appointment',\n",
       " 'as_json',\n",
       " 'classHistory',\n",
       " 'class_fhir',\n",
       " 'contained',\n",
       " 'create',\n",
       " 'delete',\n",
       " 'diagnosis',\n",
       " 'didResolveReference',\n",
       " 'elementProperties',\n",
       " 'episodeOfCare',\n",
       " 'extension',\n",
       " 'hospitalization',\n",
       " 'id',\n",
       " 'identifier',\n",
       " 'implicitRules',\n",
       " 'incomingReferral',\n",
       " 'language',\n",
       " 'length',\n",
       " 'location',\n",
       " 'meta',\n",
       " 'modifierExtension',\n",
       " 'owningBundle',\n",
       " 'owningResource',\n",
       " 'partOf',\n",
       " 'participant',\n",
       " 'period',\n",
       " 'priority',\n",
       " 'read',\n",
       " 'read_from',\n",
       " 'reason',\n",
       " 'relativeBase',\n",
       " 'relativePath',\n",
       " 'resolvedReference',\n",
       " 'resource_type',\n",
       " 'search',\n",
       " 'server',\n",
       " 'serviceProvider',\n",
       " 'status',\n",
       " 'statusHistory',\n",
       " 'subject',\n",
       " 'text',\n",
       " 'type',\n",
       " 'update',\n",
       " 'update_with_json',\n",
       " 'where',\n",
       " 'with_json',\n",
       " 'with_json_and_owner']"
      ]
     },
     "execution_count": 122,
     "metadata": {},
     "output_type": "execute_result"
    }
   ],
   "source": [
    "dir(e)"
   ]
  },
  {
   "cell_type": "code",
   "execution_count": 137,
   "metadata": {},
   "outputs": [
    {
     "data": {
      "text/plain": [
       "[<fhirclient.models.codeableconcept.CodeableConcept at 0x11c001780>]"
      ]
     },
     "execution_count": 137,
     "metadata": {},
     "output_type": "execute_result"
    }
   ],
   "source": [
    "e.type"
   ]
  },
  {
   "cell_type": "code",
   "execution_count": 131,
   "metadata": {},
   "outputs": [
    {
     "data": {
      "text/plain": [
       "'WELLNESS'"
      ]
     },
     "execution_count": 131,
     "metadata": {},
     "output_type": "execute_result"
    }
   ],
   "source": [
    "e.class_fhir.code"
   ]
  },
  {
   "cell_type": "code",
   "execution_count": null,
   "metadata": {},
   "outputs": [],
   "source": [
    "dir"
   ]
  }
 ],
 "metadata": {
  "kernelspec": {
   "display_name": "Python 3",
   "language": "python",
   "name": "python3"
  },
  "language_info": {
   "codemirror_mode": {
    "name": "ipython",
    "version": 3
   },
   "file_extension": ".py",
   "mimetype": "text/x-python",
   "name": "python",
   "nbconvert_exporter": "python",
   "pygments_lexer": "ipython3",
   "version": "3.7.0"
  }
 },
 "nbformat": 4,
 "nbformat_minor": 2
}
