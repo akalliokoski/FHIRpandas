{
 "cells": [
  {
   "cell_type": "code",
   "execution_count": 1,
   "metadata": {},
   "outputs": [],
   "source": [
    "import utils.FHIRpandas as fb\n",
    "import importlib"
   ]
  },
  {
   "cell_type": "code",
   "execution_count": 2,
   "metadata": {},
   "outputs": [
    {
     "name": "stderr",
     "output_type": "stream",
     "text": [
      "entry.378:\n",
      "  resource:\n",
      "    requester:\n",
      "      'Non-optional property \"agent\" on <fhirclient.models.medicationrequest.MedicationRequestRequester object at 0x11ab9dc50> is missing'\n"
     ]
    }
   ],
   "source": [
    "importlib.reload(fb)\n",
    "fhirpandas = fb.fromJSON(\"./data/10-patients/fhir\")"
   ]
  },
  {
   "cell_type": "code",
   "execution_count": 3,
   "metadata": {},
   "outputs": [
    {
     "data": {
      "text/plain": [
       "dict_values([<fhirclient.models.bundle.Bundle object at 0x119bc1550>, <fhirclient.models.bundle.Bundle object at 0x119dcc6a0>, <fhirclient.models.bundle.Bundle object at 0x11a215b70>, <fhirclient.models.bundle.Bundle object at 0x11a3f11d0>, <fhirclient.models.bundle.Bundle object at 0x11a536940>, <fhirclient.models.bundle.Bundle object at 0x11a99d550>, <fhirclient.models.bundle.Bundle object at 0x11cfccc18>, <fhirclient.models.bundle.Bundle object at 0x11a851198>, <fhirclient.models.bundle.Bundle object at 0x11cbade48>, <fhirclient.models.bundle.Bundle object at 0x11c15ab00>])"
      ]
     },
     "execution_count": 3,
     "metadata": {},
     "output_type": "execute_result"
    }
   ],
   "source": [
    "fhirpandas.bundles.values()"
   ]
  },
  {
   "cell_type": "code",
   "execution_count": 4,
   "metadata": {},
   "outputs": [],
   "source": [
    "importlib.reload(fb)\n",
    "df = fhirpandas.encountersDataFrame()\n"
   ]
  },
  {
   "cell_type": "code",
   "execution_count": 5,
   "metadata": {},
   "outputs": [
    {
     "data": {
      "text/html": [
       "<div>\n",
       "<style scoped>\n",
       "    .dataframe tbody tr th:only-of-type {\n",
       "        vertical-align: middle;\n",
       "    }\n",
       "\n",
       "    .dataframe tbody tr th {\n",
       "        vertical-align: top;\n",
       "    }\n",
       "\n",
       "    .dataframe thead th {\n",
       "        text-align: right;\n",
       "    }\n",
       "</style>\n",
       "<table border=\"1\" class=\"dataframe\">\n",
       "  <thead>\n",
       "    <tr style=\"text-align: right;\">\n",
       "      <th></th>\n",
       "      <th>Code</th>\n",
       "      <th>Description</th>\n",
       "      <th>EncounterClass</th>\n",
       "      <th>ID</th>\n",
       "      <th>Patient</th>\n",
       "      <th>ReasonCode</th>\n",
       "      <th>ReasonDescription</th>\n",
       "      <th>Start</th>\n",
       "      <th>Stop</th>\n",
       "    </tr>\n",
       "  </thead>\n",
       "  <tbody>\n",
       "    <tr>\n",
       "      <th>0</th>\n",
       "      <td>185349003</td>\n",
       "      <td>Encounter for check up (procedure)</td>\n",
       "      <td>WELLNESS</td>\n",
       "      <td>07f33e25-772b-4e5e-8198-9402d5f2ee5f</td>\n",
       "      <td>urn:uuid:6eb1175b-993e-4fb4-b064-6dc801335446</td>\n",
       "      <td>None</td>\n",
       "      <td>None</td>\n",
       "      <td>1986-06-28 04:41:30+03:00</td>\n",
       "      <td>1986-06-28 04:56:30+03:00</td>\n",
       "    </tr>\n",
       "    <tr>\n",
       "      <th>1</th>\n",
       "      <td>185345009</td>\n",
       "      <td>Encounter for symptom</td>\n",
       "      <td>ambulatory</td>\n",
       "      <td>83683804-a78a-4015-a732-b63e1ec14355</td>\n",
       "      <td>urn:uuid:6eb1175b-993e-4fb4-b064-6dc801335446</td>\n",
       "      <td>47505003</td>\n",
       "      <td>Posttraumatic stress disorder</td>\n",
       "      <td>1988-03-14 03:41:30+02:00</td>\n",
       "      <td>1988-03-14 04:58:30+02:00</td>\n",
       "    </tr>\n",
       "    <tr>\n",
       "      <th>2</th>\n",
       "      <td>47505003</td>\n",
       "      <td>posttraumatic stress disorder</td>\n",
       "      <td>ambulatory</td>\n",
       "      <td>dcfdcba0-946f-4ddb-bf37-aebf4b0c1b6e</td>\n",
       "      <td>urn:uuid:6eb1175b-993e-4fb4-b064-6dc801335446</td>\n",
       "      <td>47505003</td>\n",
       "      <td>Posttraumatic stress disorder</td>\n",
       "      <td>1988-04-20 04:41:30+03:00</td>\n",
       "      <td>1988-04-20 04:56:30+03:00</td>\n",
       "    </tr>\n",
       "    <tr>\n",
       "      <th>3</th>\n",
       "      <td>185349003</td>\n",
       "      <td>Encounter for check up (procedure)</td>\n",
       "      <td>WELLNESS</td>\n",
       "      <td>5d7ab436-3256-4b34-9f93-1ae1ec4cd36f</td>\n",
       "      <td>urn:uuid:6eb1175b-993e-4fb4-b064-6dc801335446</td>\n",
       "      <td>None</td>\n",
       "      <td>None</td>\n",
       "      <td>2002-04-06 04:41:30+03:00</td>\n",
       "      <td>2002-04-06 04:56:30+03:00</td>\n",
       "    </tr>\n",
       "    <tr>\n",
       "      <th>4</th>\n",
       "      <td>185345009</td>\n",
       "      <td>Encounter for symptom</td>\n",
       "      <td>ambulatory</td>\n",
       "      <td>95a0f315-8532-45d9-8481-0a277361b426</td>\n",
       "      <td>urn:uuid:6eb1175b-993e-4fb4-b064-6dc801335446</td>\n",
       "      <td>43878008</td>\n",
       "      <td>Streptococcal sore throat (disorder)</td>\n",
       "      <td>2008-11-14 03:41:30+02:00</td>\n",
       "      <td>2008-11-14 04:11:30+02:00</td>\n",
       "    </tr>\n",
       "  </tbody>\n",
       "</table>\n",
       "</div>"
      ],
      "text/plain": [
       "        Code                         Description EncounterClass  \\\n",
       "0  185349003  Encounter for check up (procedure)       WELLNESS   \n",
       "1  185345009               Encounter for symptom     ambulatory   \n",
       "2   47505003       posttraumatic stress disorder     ambulatory   \n",
       "3  185349003  Encounter for check up (procedure)       WELLNESS   \n",
       "4  185345009               Encounter for symptom     ambulatory   \n",
       "\n",
       "                                     ID  \\\n",
       "0  07f33e25-772b-4e5e-8198-9402d5f2ee5f   \n",
       "1  83683804-a78a-4015-a732-b63e1ec14355   \n",
       "2  dcfdcba0-946f-4ddb-bf37-aebf4b0c1b6e   \n",
       "3  5d7ab436-3256-4b34-9f93-1ae1ec4cd36f   \n",
       "4  95a0f315-8532-45d9-8481-0a277361b426   \n",
       "\n",
       "                                         Patient ReasonCode  \\\n",
       "0  urn:uuid:6eb1175b-993e-4fb4-b064-6dc801335446       None   \n",
       "1  urn:uuid:6eb1175b-993e-4fb4-b064-6dc801335446   47505003   \n",
       "2  urn:uuid:6eb1175b-993e-4fb4-b064-6dc801335446   47505003   \n",
       "3  urn:uuid:6eb1175b-993e-4fb4-b064-6dc801335446       None   \n",
       "4  urn:uuid:6eb1175b-993e-4fb4-b064-6dc801335446   43878008   \n",
       "\n",
       "                      ReasonDescription                      Start  \\\n",
       "0                                  None  1986-06-28 04:41:30+03:00   \n",
       "1         Posttraumatic stress disorder  1988-03-14 03:41:30+02:00   \n",
       "2         Posttraumatic stress disorder  1988-04-20 04:41:30+03:00   \n",
       "3                                  None  2002-04-06 04:41:30+03:00   \n",
       "4  Streptococcal sore throat (disorder)  2008-11-14 03:41:30+02:00   \n",
       "\n",
       "                        Stop  \n",
       "0  1986-06-28 04:56:30+03:00  \n",
       "1  1988-03-14 04:58:30+02:00  \n",
       "2  1988-04-20 04:56:30+03:00  \n",
       "3  2002-04-06 04:56:30+03:00  \n",
       "4  2008-11-14 04:11:30+02:00  "
      ]
     },
     "execution_count": 5,
     "metadata": {},
     "output_type": "execute_result"
    }
   ],
   "source": [
    "df.head()"
   ]
  },
  {
   "cell_type": "code",
   "execution_count": null,
   "metadata": {},
   "outputs": [],
   "source": []
  },
  {
   "cell_type": "code",
   "execution_count": null,
   "metadata": {},
   "outputs": [],
   "source": []
  }
 ],
 "metadata": {
  "kernelspec": {
   "display_name": "Python 3",
   "language": "python",
   "name": "python3"
  },
  "language_info": {
   "codemirror_mode": {
    "name": "ipython",
    "version": 3
   },
   "file_extension": ".py",
   "mimetype": "text/x-python",
   "name": "python",
   "nbconvert_exporter": "python",
   "pygments_lexer": "ipython3",
   "version": "3.7.0"
  }
 },
 "nbformat": 4,
 "nbformat_minor": 2
}
