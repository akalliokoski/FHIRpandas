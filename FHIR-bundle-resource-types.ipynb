{
 "cells": [
  {
   "cell_type": "markdown",
   "metadata": {},
   "source": [
    "https://blog.algorexhealth.com/2018/08/calculating-growth-and-obesity-from-fhir-messages/"
   ]
  },
  {
   "cell_type": "code",
   "execution_count": 207,
   "metadata": {},
   "outputs": [],
   "source": [
    "from pathlib import Path\n",
    "import json\n",
    "import fhirclient.models.bundle as b\n",
    "import fhirclient.models.patient as p\n",
    "from fhirclient.models.fhirabstractbase import FHIRValidationError\n",
    "import pandas as pd\n",
    "import numpy as np\n",
    "import matplotlib.pyplot as plt\n",
    "import seaborn as sns\n",
    "\n",
    "%matplotlib inline"
   ]
  },
  {
   "cell_type": "code",
   "execution_count": 82,
   "metadata": {},
   "outputs": [],
   "source": [
    "def load_bundle(path):\n",
    "    try:\n",
    "        with open(path) as file:\n",
    "            json_data = json.load(file)\n",
    "            bundle = b.Bundle(json_data)\n",
    "    except FHIRValidationError :\n",
    "        print(f'Skipping invalid FHIR data in {path}')\n",
    "        bundle = None\n",
    "    except:\n",
    "        print(f'Unexpected error: {sys.exc_info()[0]}')\n",
    "        raise\n",
    "    return bundle"
   ]
  },
  {
   "cell_type": "code",
   "execution_count": 171,
   "metadata": {},
   "outputs": [
    {
     "name": "stdout",
     "output_type": "stream",
     "text": [
      "Skipping invalid FHIR data in data/1k-patients/fhir/Leslie90_Willms744_47a6be70-4bbc-4ab4-8d63-d9c19b05b903.json\n",
      "Skipping invalid FHIR data in data/1k-patients/fhir/Lola232_Nieves278_73d98dd4-a8a2-465e-9fd2-cb7d6ce3b466.json\n",
      "Skipping invalid FHIR data in data/1k-patients/fhir/Josiah310_Predovic534_22f8f53c-617b-4e54-82a7-26abf5e22938.json\n",
      "Skipping invalid FHIR data in data/1k-patients/fhir/Quinn173_Douglas31_8f532516-2ba5-4bd0-b120-3350a614838d.json\n",
      "Skipping invalid FHIR data in data/1k-patients/fhir/Jose871_Greenholt190_6e872697-1f21-4727-9661-f229011b5a38.json\n",
      "Skipping invalid FHIR data in data/1k-patients/fhir/Ernesto186_Zapata667_62e0df7d-b603-4e84-ac42-a63e6eda2041.json\n",
      "Skipping invalid FHIR data in data/1k-patients/fhir/Tobie99_Kiehn525_c566b172-f203-45e7-b6ba-c5379ad5a111.json\n",
      "Skipping invalid FHIR data in data/1k-patients/fhir/Lorenzo669_Frías523_5156c273-ab07-4535-b9a3-b2259f24dc0c.json\n",
      "Skipping invalid FHIR data in data/1k-patients/fhir/Trula820_Monahan736_5b8b5dd0-80e9-4b4e-8dc9-2fc77d479a8e.json\n",
      "Skipping invalid FHIR data in data/1k-patients/fhir/Gustavo235_Bode78_af97757f-9c15-47a8-a881-fdf2921d0967.json\n",
      "Skipping invalid FHIR data in data/1k-patients/fhir/Milton509_Volkman526_fec73ee2-be57-4676-84c9-ae9e1d23faa4.json\n",
      "Skipping invalid FHIR data in data/1k-patients/fhir/Jorge_Luis88_Alonso270_2ee000ca-ae4d-4291-99dd-9023ea42d565.json\n",
      "Skipping invalid FHIR data in data/1k-patients/fhir/Len277_Spinka232_ad179a68-6cf1-4371-9181-ad3953785f89.json\n",
      "Skipping invalid FHIR data in data/1k-patients/fhir/Jonas187_Will178_5591ee9a-ef82-4131-a377-89b6b898fbc4.json\n",
      "Skipping invalid FHIR data in data/1k-patients/fhir/Derek111_Wolff180_9b0aad59-6488-4403-aa69-c60c2eee64f7.json\n",
      "Skipping invalid FHIR data in data/1k-patients/fhir/Young120_Funk324_64ce3ec8-c242-4b7b-b561-1b69288de4a8.json\n",
      "Skipping invalid FHIR data in data/1k-patients/fhir/Candance389_Considine820_12ce02e5-bb90-4752-ae0b-5034d8b3e502.json\n",
      "Skipping invalid FHIR data in data/1k-patients/fhir/Jermaine675_Murray856_18944498-6500-4321-8647-5caed13627e9.json\n",
      "Skipping invalid FHIR data in data/1k-patients/fhir/Tomás404_Romero158_57aa4902-bf7b-4a0e-a324-91c57efdceb4.json\n",
      "Skipping invalid FHIR data in data/1k-patients/fhir/Thaddeus38_Huels583_aadace9c-2dcb-41e3-ba32-421767490d96.json\n",
      "Skipping invalid FHIR data in data/1k-patients/fhir/Rory188_Hamill307_ca05775f-4a24-46c2-bc4a-e4dc883ab17f.json\n",
      "Skipping invalid FHIR data in data/1k-patients/fhir/Zetta950_Reinger292_1f1b1478-accc-4650-ae88-3d7940211c77.json\n",
      "Skipping invalid FHIR data in data/1k-patients/fhir/Jamey282_Walker122_f8e7543d-23ac-4679-a8dc-ac37f0bc56cf.json\n",
      "Skipping invalid FHIR data in data/1k-patients/fhir/Avery919_Hickle134_e9bf39d8-86ad-4717-8274-659ed5fd3af6.json\n",
      "Skipping invalid FHIR data in data/1k-patients/fhir/Eldridge510_Goldner995_1406094c-1a02-42ba-9df2-28f2b34bdd1b.json\n",
      "Skipping invalid FHIR data in data/1k-patients/fhir/Oneida64_Moen819_2a4c200f-f74b-4f75-a8c1-a945b8946b83.json\n",
      "Skipping invalid FHIR data in data/1k-patients/fhir/Blair400_Rodriguez71_eed9ba04-a1cf-47e6-b528-821c7fc3ad94.json\n",
      "Skipping invalid FHIR data in data/1k-patients/fhir/Pamula578_Legros616_5fdf1a06-9537-4993-bef8-39508034ef3b.json\n",
      "Skipping invalid FHIR data in data/1k-patients/fhir/Frederic454_Mertz280_1210c240-b2bd-40a3-8e4c-ff40a0e4ce38.json\n",
      "Skipping invalid FHIR data in data/1k-patients/fhir/Linwood526_Corwin846_c6a443b3-bf72-4aff-8f27-a03126608a14.json\n",
      "Skipping invalid FHIR data in data/1k-patients/fhir/David908_Concepción765_8af5c545-1b4a-4739-8b18-88806e69fee5.json\n",
      "Loaded 1102 FHIR Bundles\n"
     ]
    }
   ],
   "source": [
    "json_path = Path(\"./data/1k-patients/fhir\")\n",
    "bundles = {p.stem:load_bundle(p) for p in json_path.glob('*.json')}\n",
    "# remove missing bundles\n",
    "bundles = {key:value for key, value in bundles.items() if value != None}\n",
    "print(f'Loaded {len(bundles)} FHIR Bundles')"
   ]
  },
  {
   "cell_type": "code",
   "execution_count": 172,
   "metadata": {},
   "outputs": [
    {
     "data": {
      "text/plain": [
       "1102"
      ]
     },
     "execution_count": 172,
     "metadata": {},
     "output_type": "execute_result"
    }
   ],
   "source": [
    "len(bundles)"
   ]
  },
  {
   "cell_type": "code",
   "execution_count": 135,
   "metadata": {},
   "outputs": [],
   "source": [
    "def bundleToResourceTypeDict(bundle):\n",
    "    if (bundle.resource_type != \"Bundle\"):\n",
    "        print(f'Expected bundle, got {bundle.resource_type}')\n",
    "        return {}\n",
    "    \n",
    "    resource_types = np.array([e.resource.resource_type for e in bundle.entry])\n",
    "    unique, counts = np.unique(resource_types, return_counts=True)\n",
    "    return dict(zip(unique, counts))"
   ]
  },
  {
   "cell_type": "code",
   "execution_count": 174,
   "metadata": {},
   "outputs": [],
   "source": [
    "def bundlesToResourceTypeDf(bundles, index):\n",
    "    resourceTypeDicts = [bundleToResourceTypeDict(b) for b in bundles]\n",
    "    df = pd.DataFrame(resourceTypeDicts, index=index)\n",
    "    df.fillna(0, inplace=True) # replace NaNs with zeros\n",
    "    return df.astype(int)"
   ]
  },
  {
   "cell_type": "code",
   "execution_count": 175,
   "metadata": {},
   "outputs": [],
   "source": [
    "df = bundlesToResourceTypeDf(bundles.values(), bundles.keys())"
   ]
  },
  {
   "cell_type": "code",
   "execution_count": 176,
   "metadata": {},
   "outputs": [
    {
     "data": {
      "text/html": [
       "<div>\n",
       "<style scoped>\n",
       "    .dataframe tbody tr th:only-of-type {\n",
       "        vertical-align: middle;\n",
       "    }\n",
       "\n",
       "    .dataframe tbody tr th {\n",
       "        vertical-align: top;\n",
       "    }\n",
       "\n",
       "    .dataframe thead th {\n",
       "        text-align: right;\n",
       "    }\n",
       "</style>\n",
       "<table border=\"1\" class=\"dataframe\">\n",
       "  <thead>\n",
       "    <tr style=\"text-align: right;\">\n",
       "      <th></th>\n",
       "      <th>AllergyIntolerance</th>\n",
       "      <th>CarePlan</th>\n",
       "      <th>Claim</th>\n",
       "      <th>Condition</th>\n",
       "      <th>DiagnosticReport</th>\n",
       "      <th>Encounter</th>\n",
       "      <th>ExplanationOfBenefit</th>\n",
       "      <th>Goal</th>\n",
       "      <th>ImagingStudy</th>\n",
       "      <th>Immunization</th>\n",
       "      <th>MedicationRequest</th>\n",
       "      <th>Observation</th>\n",
       "      <th>Organization</th>\n",
       "      <th>Patient</th>\n",
       "      <th>Practitioner</th>\n",
       "      <th>Procedure</th>\n",
       "    </tr>\n",
       "  </thead>\n",
       "  <tbody>\n",
       "    <tr>\n",
       "      <th>Jere230_Auer97_4b957fc7-316f-4d15-bc2c-b2a714c88d34</th>\n",
       "      <td>0</td>\n",
       "      <td>2</td>\n",
       "      <td>130</td>\n",
       "      <td>6</td>\n",
       "      <td>114</td>\n",
       "      <td>57</td>\n",
       "      <td>57</td>\n",
       "      <td>0</td>\n",
       "      <td>36</td>\n",
       "      <td>10</td>\n",
       "      <td>73</td>\n",
       "      <td>1727</td>\n",
       "      <td>1</td>\n",
       "      <td>1</td>\n",
       "      <td>1</td>\n",
       "      <td>127</td>\n",
       "    </tr>\n",
       "    <tr>\n",
       "      <th>Wan724_Blanda868_02c5c3d8-568b-4641-b347-c4406933808c</th>\n",
       "      <td>0</td>\n",
       "      <td>3</td>\n",
       "      <td>28</td>\n",
       "      <td>11</td>\n",
       "      <td>22</td>\n",
       "      <td>24</td>\n",
       "      <td>24</td>\n",
       "      <td>5</td>\n",
       "      <td>0</td>\n",
       "      <td>13</td>\n",
       "      <td>4</td>\n",
       "      <td>232</td>\n",
       "      <td>2</td>\n",
       "      <td>1</td>\n",
       "      <td>2</td>\n",
       "      <td>12</td>\n",
       "    </tr>\n",
       "    <tr>\n",
       "      <th>Juan88_Salcido465_85ed086a-4011-47d2-8cda-361f3e476a2c</th>\n",
       "      <td>0</td>\n",
       "      <td>0</td>\n",
       "      <td>7</td>\n",
       "      <td>1</td>\n",
       "      <td>2</td>\n",
       "      <td>7</td>\n",
       "      <td>7</td>\n",
       "      <td>0</td>\n",
       "      <td>0</td>\n",
       "      <td>10</td>\n",
       "      <td>0</td>\n",
       "      <td>58</td>\n",
       "      <td>1</td>\n",
       "      <td>1</td>\n",
       "      <td>1</td>\n",
       "      <td>1</td>\n",
       "    </tr>\n",
       "    <tr>\n",
       "      <th>Amiee221_D'Amore443_6befe6fa-129d-44cf-82b5-c07a0b395713</th>\n",
       "      <td>0</td>\n",
       "      <td>11</td>\n",
       "      <td>107</td>\n",
       "      <td>8</td>\n",
       "      <td>35</td>\n",
       "      <td>63</td>\n",
       "      <td>63</td>\n",
       "      <td>5</td>\n",
       "      <td>0</td>\n",
       "      <td>11</td>\n",
       "      <td>44</td>\n",
       "      <td>404</td>\n",
       "      <td>1</td>\n",
       "      <td>1</td>\n",
       "      <td>1</td>\n",
       "      <td>26</td>\n",
       "    </tr>\n",
       "    <tr>\n",
       "      <th>Benjamin360_Miller503_5e23982f-86a2-4b02-8997-ff8ef545a5ba</th>\n",
       "      <td>1</td>\n",
       "      <td>2</td>\n",
       "      <td>24</td>\n",
       "      <td>2</td>\n",
       "      <td>2</td>\n",
       "      <td>19</td>\n",
       "      <td>19</td>\n",
       "      <td>0</td>\n",
       "      <td>0</td>\n",
       "      <td>33</td>\n",
       "      <td>5</td>\n",
       "      <td>118</td>\n",
       "      <td>1</td>\n",
       "      <td>1</td>\n",
       "      <td>1</td>\n",
       "      <td>10</td>\n",
       "    </tr>\n",
       "  </tbody>\n",
       "</table>\n",
       "</div>"
      ],
      "text/plain": [
       "                                                    AllergyIntolerance  \\\n",
       "Jere230_Auer97_4b957fc7-316f-4d15-bc2c-b2a714c8...                   0   \n",
       "Wan724_Blanda868_02c5c3d8-568b-4641-b347-c44069...                   0   \n",
       "Juan88_Salcido465_85ed086a-4011-47d2-8cda-361f3...                   0   \n",
       "Amiee221_D'Amore443_6befe6fa-129d-44cf-82b5-c07...                   0   \n",
       "Benjamin360_Miller503_5e23982f-86a2-4b02-8997-f...                   1   \n",
       "\n",
       "                                                    CarePlan  Claim  \\\n",
       "Jere230_Auer97_4b957fc7-316f-4d15-bc2c-b2a714c8...         2    130   \n",
       "Wan724_Blanda868_02c5c3d8-568b-4641-b347-c44069...         3     28   \n",
       "Juan88_Salcido465_85ed086a-4011-47d2-8cda-361f3...         0      7   \n",
       "Amiee221_D'Amore443_6befe6fa-129d-44cf-82b5-c07...        11    107   \n",
       "Benjamin360_Miller503_5e23982f-86a2-4b02-8997-f...         2     24   \n",
       "\n",
       "                                                    Condition  \\\n",
       "Jere230_Auer97_4b957fc7-316f-4d15-bc2c-b2a714c8...          6   \n",
       "Wan724_Blanda868_02c5c3d8-568b-4641-b347-c44069...         11   \n",
       "Juan88_Salcido465_85ed086a-4011-47d2-8cda-361f3...          1   \n",
       "Amiee221_D'Amore443_6befe6fa-129d-44cf-82b5-c07...          8   \n",
       "Benjamin360_Miller503_5e23982f-86a2-4b02-8997-f...          2   \n",
       "\n",
       "                                                    DiagnosticReport  \\\n",
       "Jere230_Auer97_4b957fc7-316f-4d15-bc2c-b2a714c8...               114   \n",
       "Wan724_Blanda868_02c5c3d8-568b-4641-b347-c44069...                22   \n",
       "Juan88_Salcido465_85ed086a-4011-47d2-8cda-361f3...                 2   \n",
       "Amiee221_D'Amore443_6befe6fa-129d-44cf-82b5-c07...                35   \n",
       "Benjamin360_Miller503_5e23982f-86a2-4b02-8997-f...                 2   \n",
       "\n",
       "                                                    Encounter  \\\n",
       "Jere230_Auer97_4b957fc7-316f-4d15-bc2c-b2a714c8...         57   \n",
       "Wan724_Blanda868_02c5c3d8-568b-4641-b347-c44069...         24   \n",
       "Juan88_Salcido465_85ed086a-4011-47d2-8cda-361f3...          7   \n",
       "Amiee221_D'Amore443_6befe6fa-129d-44cf-82b5-c07...         63   \n",
       "Benjamin360_Miller503_5e23982f-86a2-4b02-8997-f...         19   \n",
       "\n",
       "                                                    ExplanationOfBenefit  \\\n",
       "Jere230_Auer97_4b957fc7-316f-4d15-bc2c-b2a714c8...                    57   \n",
       "Wan724_Blanda868_02c5c3d8-568b-4641-b347-c44069...                    24   \n",
       "Juan88_Salcido465_85ed086a-4011-47d2-8cda-361f3...                     7   \n",
       "Amiee221_D'Amore443_6befe6fa-129d-44cf-82b5-c07...                    63   \n",
       "Benjamin360_Miller503_5e23982f-86a2-4b02-8997-f...                    19   \n",
       "\n",
       "                                                    Goal  ImagingStudy  \\\n",
       "Jere230_Auer97_4b957fc7-316f-4d15-bc2c-b2a714c8...     0            36   \n",
       "Wan724_Blanda868_02c5c3d8-568b-4641-b347-c44069...     5             0   \n",
       "Juan88_Salcido465_85ed086a-4011-47d2-8cda-361f3...     0             0   \n",
       "Amiee221_D'Amore443_6befe6fa-129d-44cf-82b5-c07...     5             0   \n",
       "Benjamin360_Miller503_5e23982f-86a2-4b02-8997-f...     0             0   \n",
       "\n",
       "                                                    Immunization  \\\n",
       "Jere230_Auer97_4b957fc7-316f-4d15-bc2c-b2a714c8...            10   \n",
       "Wan724_Blanda868_02c5c3d8-568b-4641-b347-c44069...            13   \n",
       "Juan88_Salcido465_85ed086a-4011-47d2-8cda-361f3...            10   \n",
       "Amiee221_D'Amore443_6befe6fa-129d-44cf-82b5-c07...            11   \n",
       "Benjamin360_Miller503_5e23982f-86a2-4b02-8997-f...            33   \n",
       "\n",
       "                                                    MedicationRequest  \\\n",
       "Jere230_Auer97_4b957fc7-316f-4d15-bc2c-b2a714c8...                 73   \n",
       "Wan724_Blanda868_02c5c3d8-568b-4641-b347-c44069...                  4   \n",
       "Juan88_Salcido465_85ed086a-4011-47d2-8cda-361f3...                  0   \n",
       "Amiee221_D'Amore443_6befe6fa-129d-44cf-82b5-c07...                 44   \n",
       "Benjamin360_Miller503_5e23982f-86a2-4b02-8997-f...                  5   \n",
       "\n",
       "                                                    Observation  Organization  \\\n",
       "Jere230_Auer97_4b957fc7-316f-4d15-bc2c-b2a714c8...         1727             1   \n",
       "Wan724_Blanda868_02c5c3d8-568b-4641-b347-c44069...          232             2   \n",
       "Juan88_Salcido465_85ed086a-4011-47d2-8cda-361f3...           58             1   \n",
       "Amiee221_D'Amore443_6befe6fa-129d-44cf-82b5-c07...          404             1   \n",
       "Benjamin360_Miller503_5e23982f-86a2-4b02-8997-f...          118             1   \n",
       "\n",
       "                                                    Patient  Practitioner  \\\n",
       "Jere230_Auer97_4b957fc7-316f-4d15-bc2c-b2a714c8...        1             1   \n",
       "Wan724_Blanda868_02c5c3d8-568b-4641-b347-c44069...        1             2   \n",
       "Juan88_Salcido465_85ed086a-4011-47d2-8cda-361f3...        1             1   \n",
       "Amiee221_D'Amore443_6befe6fa-129d-44cf-82b5-c07...        1             1   \n",
       "Benjamin360_Miller503_5e23982f-86a2-4b02-8997-f...        1             1   \n",
       "\n",
       "                                                    Procedure  \n",
       "Jere230_Auer97_4b957fc7-316f-4d15-bc2c-b2a714c8...        127  \n",
       "Wan724_Blanda868_02c5c3d8-568b-4641-b347-c44069...         12  \n",
       "Juan88_Salcido465_85ed086a-4011-47d2-8cda-361f3...          1  \n",
       "Amiee221_D'Amore443_6befe6fa-129d-44cf-82b5-c07...         26  \n",
       "Benjamin360_Miller503_5e23982f-86a2-4b02-8997-f...         10  "
      ]
     },
     "execution_count": 176,
     "metadata": {},
     "output_type": "execute_result"
    }
   ],
   "source": [
    "df.head()"
   ]
  },
  {
   "cell_type": "code",
   "execution_count": 145,
   "metadata": {},
   "outputs": [
    {
     "data": {
      "text/plain": [
       "count    1102.000000\n",
       "mean        0.998185\n",
       "std         0.042582\n",
       "min         0.000000\n",
       "25%         1.000000\n",
       "50%         1.000000\n",
       "75%         1.000000\n",
       "max         1.000000\n",
       "Name: Patient, dtype: float64"
      ]
     },
     "execution_count": 145,
     "metadata": {},
     "output_type": "execute_result"
    }
   ],
   "source": [
    "df[\"Patient\"].describe()"
   ]
  },
  {
   "cell_type": "markdown",
   "metadata": {},
   "source": [
    "Most of the bundles have single patient but some bundles doesn't have a patient at all. Let's take bundles with zero patients to a separate data frame."
   ]
  },
  {
   "cell_type": "code",
   "execution_count": 149,
   "metadata": {},
   "outputs": [],
   "source": [
    "df2 = df[df[\"Patient\"] == 0]\n",
    "# Remove the rows from the original data frame\n",
    "df = df[df[\"Patient\"] != 0] "
   ]
  },
  {
   "cell_type": "code",
   "execution_count": 152,
   "metadata": {},
   "outputs": [
    {
     "data": {
      "text/html": [
       "<div>\n",
       "<style scoped>\n",
       "    .dataframe tbody tr th:only-of-type {\n",
       "        vertical-align: middle;\n",
       "    }\n",
       "\n",
       "    .dataframe tbody tr th {\n",
       "        vertical-align: top;\n",
       "    }\n",
       "\n",
       "    .dataframe thead th {\n",
       "        text-align: right;\n",
       "    }\n",
       "</style>\n",
       "<table border=\"1\" class=\"dataframe\">\n",
       "  <thead>\n",
       "    <tr style=\"text-align: right;\">\n",
       "      <th></th>\n",
       "      <th>AllergyIntolerance</th>\n",
       "      <th>CarePlan</th>\n",
       "      <th>Claim</th>\n",
       "      <th>Condition</th>\n",
       "      <th>DiagnosticReport</th>\n",
       "      <th>Encounter</th>\n",
       "      <th>ExplanationOfBenefit</th>\n",
       "      <th>Goal</th>\n",
       "      <th>ImagingStudy</th>\n",
       "      <th>Immunization</th>\n",
       "      <th>MedicationRequest</th>\n",
       "      <th>Observation</th>\n",
       "      <th>Organization</th>\n",
       "      <th>Patient</th>\n",
       "      <th>Practitioner</th>\n",
       "      <th>Procedure</th>\n",
       "    </tr>\n",
       "  </thead>\n",
       "  <tbody>\n",
       "    <tr>\n",
       "      <th>722</th>\n",
       "      <td>0</td>\n",
       "      <td>0</td>\n",
       "      <td>0</td>\n",
       "      <td>0</td>\n",
       "      <td>0</td>\n",
       "      <td>0</td>\n",
       "      <td>0</td>\n",
       "      <td>0</td>\n",
       "      <td>0</td>\n",
       "      <td>0</td>\n",
       "      <td>0</td>\n",
       "      <td>0</td>\n",
       "      <td>0</td>\n",
       "      <td>0</td>\n",
       "      <td>90</td>\n",
       "      <td>0</td>\n",
       "    </tr>\n",
       "    <tr>\n",
       "      <th>915</th>\n",
       "      <td>0</td>\n",
       "      <td>0</td>\n",
       "      <td>0</td>\n",
       "      <td>0</td>\n",
       "      <td>0</td>\n",
       "      <td>0</td>\n",
       "      <td>0</td>\n",
       "      <td>0</td>\n",
       "      <td>0</td>\n",
       "      <td>0</td>\n",
       "      <td>0</td>\n",
       "      <td>0</td>\n",
       "      <td>90</td>\n",
       "      <td>0</td>\n",
       "      <td>0</td>\n",
       "      <td>0</td>\n",
       "    </tr>\n",
       "  </tbody>\n",
       "</table>\n",
       "</div>"
      ],
      "text/plain": [
       "     AllergyIntolerance  CarePlan  Claim  Condition  DiagnosticReport  \\\n",
       "722                   0         0      0          0                 0   \n",
       "915                   0         0      0          0                 0   \n",
       "\n",
       "     Encounter  ExplanationOfBenefit  Goal  ImagingStudy  Immunization  \\\n",
       "722          0                     0     0             0             0   \n",
       "915          0                     0     0             0             0   \n",
       "\n",
       "     MedicationRequest  Observation  Organization  Patient  Practitioner  \\\n",
       "722                  0            0             0        0            90   \n",
       "915                  0            0            90        0             0   \n",
       "\n",
       "     Procedure  \n",
       "722          0  \n",
       "915          0  "
      ]
     },
     "execution_count": 152,
     "metadata": {},
     "output_type": "execute_result"
    }
   ],
   "source": [
    "df2.head()"
   ]
  },
  {
   "cell_type": "markdown",
   "metadata": {},
   "source": [
    "The two bundles contain only organizations and practitioners."
   ]
  },
  {
   "cell_type": "code",
   "execution_count": 161,
   "metadata": {},
   "outputs": [
    {
     "data": {
      "text/plain": [
       "Observation             190541\n",
       "Claim                    43899\n",
       "ExplanationOfBenefit     34886\n",
       "Encounter                34886\n",
       "Procedure                29467\n",
       "Immunization             13576\n",
       "DiagnosticReport         13533\n",
       "MedicationRequest         9013\n",
       "Condition                 7743\n",
       "CarePlan                  3004\n",
       "Goal                      1835\n",
       "Practitioner              1433\n",
       "Organization              1433\n",
       "Patient                   1100\n",
       "ImagingStudy               835\n",
       "AllergyIntolerance         440\n",
       "dtype: int64"
      ]
     },
     "execution_count": 161,
     "metadata": {},
     "output_type": "execute_result"
    }
   ],
   "source": [
    "resources_sum = df.sum().sort_values(ascending=False); resources_sum"
   ]
  },
  {
   "cell_type": "code",
   "execution_count": 206,
   "metadata": {},
   "outputs": [
    {
     "data": {
      "image/png": "[encoded data removed]",
      "text/plain": [
       "<Figure size 720x720 with 2 Axes>"
      ]
     },
     "metadata": {
      "needs_background": "light"
     },
     "output_type": "display_data"
    }
   ],
   "source": [
    "corr = df.corr()\n",
    "\n",
    "# In order to remove duplicate information,\n",
    "# use mask to show only other half of the heatmap\n",
    "mask = np.zeros_like(corr)\n",
    "mask[np.triu_indices_from(mask)] = True\n",
    "colormap = \"YlGnBu\"\n",
    "\n",
    "# set figure size\n",
    "plt.subplots(figsize=(10,10))\n",
    "\n",
    "ax = sns.heatmap(corr, mask=mask, square=True, cmap=colormap)"
   ]
  },
  {
   "cell_type": "markdown",
   "metadata": {},
   "source": [
    "* Explain: Encounter, Claim, ExplanationOfBenefit\n",
    "* Explain: Observation, DiagnosisReport, ImagingStudy"
   ]
  },
  {
   "cell_type": "markdown",
   "metadata": {},
   "source": [
    "Get bundle with highest number of encounters"
   ]
  },
  {
   "cell_type": "code",
   "execution_count": 214,
   "metadata": {},
   "outputs": [],
   "source": [
    "sorted_df = df.sort_values(\"Encounter\", axis=0, ascending=False)"
   ]
  },
  {
   "cell_type": "code",
   "execution_count": 216,
   "metadata": {},
   "outputs": [
    {
     "data": {
      "text/plain": [
       "'Bryon392_Brakus656_83eef197-13fa-4ec3-9ed5-0b1955e81bf4'"
      ]
     },
     "execution_count": 216,
     "metadata": {},
     "output_type": "execute_result"
    }
   ],
   "source": [
    "sorted_df.index[0]"
   ]
  },
  {
   "cell_type": "code",
   "execution_count": null,
   "metadata": {},
   "outputs": [],
   "source": []
  }
 ],
 "metadata": {
  "kernelspec": {
   "display_name": "Python 3",
   "language": "python",
   "name": "python3"
  },
  "language_info": {
   "codemirror_mode": {
    "name": "ipython",
    "version": 3
   },
   "file_extension": ".py",
   "mimetype": "text/x-python",
   "name": "python",
   "nbconvert_exporter": "python",
   "pygments_lexer": "ipython3",
   "version": "3.7.0"
  }
 },
 "nbformat": 4,
 "nbformat_minor": 2
}
