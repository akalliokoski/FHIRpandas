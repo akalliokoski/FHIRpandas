{
 "cells": [
  {
   "cell_type": "markdown",
   "metadata": {},
   "source": [
    "https://blog.algorexhealth.com/2018/08/calculating-growth-and-obesity-from-fhir-messages/"
   ]
  },
  {
   "cell_type": "code",
   "execution_count": 1,
   "metadata": {},
   "outputs": [],
   "source": [
    "from pathlib import Path\n",
    "import json\n",
    "import fhirclient.models.bundle as b\n",
    "import fhirclient.models.patient as p\n",
    "from fhirclient.models.fhirabstractbase import FHIRValidationError\n",
    "import pandas as pd\n",
    "import numpy as np\n",
    "import matplotlib.pyplot as plt\n",
    "import seaborn as sns\n",
    "\n",
    "%matplotlib inline"
   ]
  },
  {
   "cell_type": "code",
   "execution_count": 2,
   "metadata": {},
   "outputs": [],
   "source": [
    "def load_bundle(path):\n",
    "    try:\n",
    "        with open(path) as file:\n",
    "            json_data = json.load(file)\n",
    "            bundle = b.Bundle(json_data)\n",
    "    except FHIRValidationError :\n",
    "        print(f'Skipping invalid FHIR data in {path}')\n",
    "        bundle = None\n",
    "    except:\n",
    "        print(f'Unexpected error: {sys.exc_info()[0]}')\n",
    "        raise\n",
    "    return bundle"
   ]
  },
  {
   "cell_type": "code",
   "execution_count": null,
   "metadata": {},
   "outputs": [
    {
     "name": "stdout",
     "output_type": "stream",
     "text": [
      "Skipping invalid FHIR data in data/1k-patients/fhir/Leslie90_Willms744_47a6be70-4bbc-4ab4-8d63-d9c19b05b903.json\n",
      "Skipping invalid FHIR data in data/1k-patients/fhir/Lola232_Nieves278_73d98dd4-a8a2-465e-9fd2-cb7d6ce3b466.json\n",
      "Skipping invalid FHIR data in data/1k-patients/fhir/Josiah310_Predovic534_22f8f53c-617b-4e54-82a7-26abf5e22938.json\n"
     ]
    }
   ],
   "source": [
    "json_path = Path(\"./data/1k-patients/fhir\")\n",
    "bundles = {p.stem:load_bundle(p) for p in json_path.glob('*.json')}\n",
    "# remove missing bundles\n",
    "bundles = {key:value for key, value in bundles.items() if value != None}\n",
    "print(f'Loaded {len(bundles)} FHIR Bundles')"
   ]
  },
  {
   "cell_type": "code",
   "execution_count": null,
   "metadata": {},
   "outputs": [],
   "source": [
    "len(bundles)"
   ]
  },
  {
   "cell_type": "code",
   "execution_count": null,
   "metadata": {},
   "outputs": [],
   "source": [
    "def bundleToResourceTypeDict(bundle):\n",
    "    if (bundle.resource_type != \"Bundle\"):\n",
    "        print(f'Expected bundle, got {bundle.resource_type}')\n",
    "        return {}\n",
    "    \n",
    "    resource_types = np.array([e.resource.resource_type for e in bundle.entry])\n",
    "    unique, counts = np.unique(resource_types, return_counts=True)\n",
    "    return dict(zip(unique, counts))"
   ]
  },
  {
   "cell_type": "code",
   "execution_count": null,
   "metadata": {},
   "outputs": [],
   "source": [
    "def bundlesToResourceTypeDf(bundles, index):\n",
    "    resourceTypeDicts = [bundleToResourceTypeDict(b) for b in bundles]\n",
    "    df = pd.DataFrame(resourceTypeDicts, index=index)\n",
    "    df.fillna(0, inplace=True) # replace NaNs with zeros\n",
    "    return df.astype(int)"
   ]
  },
  {
   "cell_type": "code",
   "execution_count": null,
   "metadata": {},
   "outputs": [],
   "source": [
    "df = bundlesToResourceTypeDf(bundles.values(), bundles.keys())"
   ]
  },
  {
   "cell_type": "code",
   "execution_count": null,
   "metadata": {},
   "outputs": [],
   "source": [
    "df.head()"
   ]
  },
  {
   "cell_type": "code",
   "execution_count": null,
   "metadata": {},
   "outputs": [],
   "source": [
    "df[\"Patient\"].describe()"
   ]
  },
  {
   "cell_type": "markdown",
   "metadata": {},
   "source": [
    "Most of the bundles have single patient but some bundles doesn't have a patient at all. Let's take bundles with zero patients to a separate data frame."
   ]
  },
  {
   "cell_type": "code",
   "execution_count": null,
   "metadata": {},
   "outputs": [],
   "source": [
    "df2 = df[df[\"Patient\"] == 0]\n",
    "# Remove the rows from the original data frame\n",
    "df = df[df[\"Patient\"] != 0] "
   ]
  },
  {
   "cell_type": "code",
   "execution_count": null,
   "metadata": {},
   "outputs": [],
   "source": [
    "df2.head()"
   ]
  },
  {
   "cell_type": "markdown",
   "metadata": {},
   "source": [
    "The two bundles contain only organizations and practitioners."
   ]
  },
  {
   "cell_type": "code",
   "execution_count": null,
   "metadata": {},
   "outputs": [],
   "source": [
    "resources_sum = df.sum().sort_values(ascending=False); resources_sum"
   ]
  },
  {
   "cell_type": "code",
   "execution_count": null,
   "metadata": {},
   "outputs": [],
   "source": [
    "corr = df.corr()\n",
    "\n",
    "# In order to remove duplicate information,\n",
    "# use mask to show only other half of the heatmap\n",
    "mask = np.zeros_like(corr)\n",
    "mask[np.triu_indices_from(mask)] = True\n",
    "colormap = \"YlGnBu\"\n",
    "\n",
    "# set figure size\n",
    "plt.subplots(figsize=(10,10))\n",
    "\n",
    "ax = sns.heatmap(corr, mask=mask, square=True, cmap=colormap)"
   ]
  },
  {
   "cell_type": "markdown",
   "metadata": {},
   "source": [
    "* Explain: Encounter, Claim, ExplanationOfBenefit\n",
    "* Explain: Observation, DiagnosisReport, ImagingStudy"
   ]
  },
  {
   "cell_type": "markdown",
   "metadata": {},
   "source": [
    "Get bundle with highest number of encounters"
   ]
  },
  {
   "cell_type": "code",
   "execution_count": null,
   "metadata": {},
   "outputs": [],
   "source": [
    "sorted_df = df.sort_values(\"Encounter\", axis=0, ascending=False)"
   ]
  },
  {
   "cell_type": "code",
   "execution_count": null,
   "metadata": {},
   "outputs": [],
   "source": [
    "sorted_df.index[0]"
   ]
  },
  {
   "cell_type": "code",
   "execution_count": null,
   "metadata": {},
   "outputs": [],
   "source": []
  }
 ],
 "metadata": {
  "kernelspec": {
   "display_name": "Python 3",
   "language": "python",
   "name": "python3"
  },
  "language_info": {
   "codemirror_mode": {
    "name": "ipython",
    "version": 3
   },
   "file_extension": ".py",
   "mimetype": "text/x-python",
   "name": "python",
   "nbconvert_exporter": "python",
   "pygments_lexer": "ipython3",
   "version": "3.7.0"
  }
 },
 "nbformat": 4,
 "nbformat_minor": 2
}
