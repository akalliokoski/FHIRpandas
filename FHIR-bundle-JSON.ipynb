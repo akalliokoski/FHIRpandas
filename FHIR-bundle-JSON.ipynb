{
 "cells": [
  {
   "cell_type": "markdown",
   "metadata": {},
   "source": [
    "## Exploratory Data Analysis on FHIR"
   ]
  },
  {
   "cell_type": "code",
   "execution_count": 1,
   "metadata": {},
   "outputs": [],
   "source": [
    "#!pip install pandas\n",
    "#!pip install requests\n",
    "#!pip install altair "
   ]
  },
  {
   "cell_type": "markdown",
   "metadata": {},
   "source": [
    "NOTE: must be anonymized"
   ]
  },
  {
   "cell_type": "markdown",
   "metadata": {},
   "source": [
    "### Install Anaconda environment"
   ]
  },
  {
   "cell_type": "markdown",
   "metadata": {},
   "source": [
    "### Install Python SMART on FHIR client "
   ]
  },
  {
   "cell_type": "markdown",
   "metadata": {},
   "source": [
    "See docs: http://docs.smarthealthit.org/client-py/"
   ]
  },
  {
   "cell_type": "markdown",
   "metadata": {},
   "source": [
    "### Generate test data"
   ]
  },
  {
   "cell_type": "markdown",
   "metadata": {},
   "source": [
    "Download FHIR STU3 sample data from Synthea\n",
    "https://synthetichealth.github.io/synthea/"
   ]
  },
  {
   "cell_type": "code",
   "execution_count": 3,
   "metadata": {},
   "outputs": [
    {
     "name": "stdout",
     "output_type": "stream",
     "text": [
      "mkdir: ./data: File exists\n",
      "FHIR.ipynb \u001b[34m__MACOSX\u001b[m\u001b[m   \u001b[34mdata\u001b[m\u001b[m\n",
      "mkdir: ./data/1k-patients: File exists\n",
      "1k-patients.zip          all_prevalences.csv      stripped_prevalences.csv\n",
      "\u001b[34m__MACOSX\u001b[m\u001b[m                 \u001b[34mfhir\u001b[m\u001b[m\n"
     ]
    }
   ],
   "source": [
    "import os\n",
    "\n",
    "DATA_PATH = os.path.join(\".\", \"data\")\n",
    "FHIR_1K_PATIENTS_PATH = os.path.join(DATA_PATH, \"1k-patients\")\n",
    "\n",
    "!mkdir {DATA_PATH}\n",
    "!ls\n",
    "!mkdir {FHIR_1K_PATIENTS_PATH}\n",
    "!ls {FHIR_1K_PATIENTS_PATH}"
   ]
  },
  {
   "cell_type": "code",
   "execution_count": null,
   "metadata": {},
   "outputs": [],
   "source": []
  },
  {
   "cell_type": "code",
   "execution_count": 5,
   "metadata": {},
   "outputs": [],
   "source": [
    "import requests\n",
    "\n",
    "SAMPLE_DATA_URL=\"https://syntheticmass.mitre.org/downloads/2017_11_06/synthea_sample_data_fhir_stu3_nov2017.zip\"\n",
    "response = requests.get(SAMPLE_DATA_URL)\n",
    "\n",
    "DATA_PATH = os.path.join(\".\", \"data\")\n",
    "FHIR_1K_PATIENTS_PATH = os.path.join(DATA_PATH, \"1k-patients\")\n",
    "FHIR_1K_PATIENTS_ZIP_PATH = os.path.join(FHIR_1K_PATIENTS_PATH, \"1k-patients.zip\")\n",
    "\n",
    "file = open(FHIR_1K_PATIENTS_ZIP_PATH, 'wb')\n",
    "file.write(response.content)\n",
    "file.close()"
   ]
  },
  {
   "cell_type": "markdown",
   "metadata": {},
   "source": [
    "We got 20MB zip file"
   ]
  },
  {
   "cell_type": "code",
   "execution_count": 6,
   "metadata": {},
   "outputs": [
    {
     "name": "stdout",
     "output_type": "stream",
     "text": [
      "total 39040\n",
      "drwxr-xr-x     7 antti  staff       224 Nov  9 14:09 \u001b[34m.\u001b[m\u001b[m\n",
      "drwxr-xr-x     3 antti  staff        96 Nov  9 12:36 \u001b[34m..\u001b[m\u001b[m\n",
      "-rw-r--r--     1 antti  staff  19957256 Nov  9 16:00 1k-patients.zip\n",
      "drwxr-xr-x     3 antti  staff        96 Nov  9 12:40 \u001b[34m__MACOSX\u001b[m\u001b[m\n",
      "-rw-r--r--     1 antti  staff     13916 Nov  9 12:40 all_prevalences.csv\n",
      "drwxr-xr-x  1465 antti  staff     46880 Nov  9 12:40 \u001b[34mfhir\u001b[m\u001b[m\n",
      "-rw-r--r--     1 antti  staff      9368 Nov  9 14:09 stripped_prevalences.csv\n"
     ]
    }
   ],
   "source": [
    "!ls -la {FHIR_1K_PATIENTS_PATH}"
   ]
  },
  {
   "cell_type": "code",
   "execution_count": 41,
   "metadata": {},
   "outputs": [],
   "source": [
    "import zipfile\n",
    "zip = zipfile.ZipFile(FHIR_1K_PATIENTS_ZIP_PATH)\n",
    "zip.extractall(FHIR_1K_PATIENTS_PATH)\n",
    "zip.close()"
   ]
  },
  {
   "cell_type": "code",
   "execution_count": 8,
   "metadata": {},
   "outputs": [
    {
     "name": "stdout",
     "output_type": "stream",
     "text": [
      "total 39040\n",
      "38984 -rw-r--r--     1 antti  staff  19957256 Nov  9 16:00 1k-patients.zip\n",
      "    0 drwxr-xr-x     3 antti  staff        96 Nov  9 12:40 \u001b[34m__MACOSX\u001b[m\u001b[m\n",
      "   32 -rw-r--r--     1 antti  staff     13916 Nov  9 16:00 all_prevalences.csv\n",
      "    0 drwxr-xr-x  1465 antti  staff     46880 Nov  9 12:40 \u001b[34mfhir\u001b[m\u001b[m\n",
      "   24 -rw-r--r--     1 antti  staff      9368 Nov  9 14:09 stripped_prevalences.csv\n"
     ]
    }
   ],
   "source": [
    "!ls -ls {FHIR_1K_PATIENTS_PATH}"
   ]
  },
  {
   "cell_type": "code",
   "execution_count": 9,
   "metadata": {},
   "outputs": [
    {
     "name": "stdout",
     "output_type": "stream",
     "text": [
      "total 575808\n",
      "-rw-r--r--  1 antti  staff  954679 Nov  9 16:00 Labadie956_Jeff209_19.json\n",
      "-rw-r--r--  1 antti  staff  918365 Nov  9 16:00 Flatley187_Frank245_15.json\n",
      "-rw-r--r--  1 antti  staff  864132 Nov  9 16:00 Volkman764_Caron629_51.json\n",
      "-rw-r--r--  1 antti  staff  795994 Nov  9 16:00 Spencer562_Dallas785_55.json\n",
      "-rw-r--r--  1 antti  staff  774497 Nov  9 16:00 hospital_information.json\n",
      "-rw-r--r--  1 antti  staff  733798 Nov  9 16:00 Prosacco693_Annie110_23.json\n",
      "-rw-r--r--  1 antti  staff  732881 Nov  9 16:00 McCullough769_Martha55_32.json\n",
      "-rw-r--r--  1 antti  staff  724654 Nov  9 16:00 Kreiger821_Patty803_21.json\n",
      "-rw-r--r--  1 antti  staff  676237 Nov  9 16:00 Cole124_Abbie484_21.json\n"
     ]
    }
   ],
   "source": [
    "!ls -lS {FHIR_1K_PATIENTS_PATH}/fhir | head -10"
   ]
  },
  {
   "cell_type": "markdown",
   "metadata": {},
   "source": [
    "Ok, so there is `all_prevalences.csv` file and `fhir` directory which contains the JSONs. The largest JSON files are ~1MB. And in addition to patient related JSON files, there is also other type of information, e.g. hospital information."
   ]
  },
  {
   "cell_type": "markdown",
   "metadata": {},
   "source": [
    "### What's in `all_prevalences.csv`?"
   ]
  },
  {
   "cell_type": "code",
   "execution_count": 10,
   "metadata": {},
   "outputs": [],
   "source": [
    "import pandas as pd"
   ]
  },
  {
   "cell_type": "code",
   "execution_count": 11,
   "metadata": {},
   "outputs": [
    {
     "data": {
      "text/html": [
       "<div>\n",
       "<style scoped>\n",
       "    .dataframe tbody tr th:only-of-type {\n",
       "        vertical-align: middle;\n",
       "    }\n",
       "\n",
       "    .dataframe tbody tr th {\n",
       "        vertical-align: top;\n",
       "    }\n",
       "\n",
       "    .dataframe thead th {\n",
       "        text-align: right;\n",
       "    }\n",
       "</style>\n",
       "<table border=\"1\" class=\"dataframe\">\n",
       "  <thead>\n",
       "    <tr style=\"text-align: right;\">\n",
       "      <th></th>\n",
       "      <th>ITEM</th>\n",
       "      <th>POPULATION TYPE</th>\n",
       "      <th>OCCURRENCES</th>\n",
       "      <th>POPULATION COUNT</th>\n",
       "      <th>PREVALENCE RATE</th>\n",
       "      <th>PREVALENCE PERCENTAGE</th>\n",
       "    </tr>\n",
       "  </thead>\n",
       "  <tbody>\n",
       "    <tr>\n",
       "      <th>0</th>\n",
       "      <td>Viral Sinusitis (Disorder)</td>\n",
       "      <td>LIVING</td>\n",
       "      <td>868</td>\n",
       "      <td>1000</td>\n",
       "      <td>0.868</td>\n",
       "      <td>86.8</td>\n",
       "    </tr>\n",
       "    <tr>\n",
       "      <th>1</th>\n",
       "      <td>Streptococcal Sore Throat (Disorder)</td>\n",
       "      <td>LIVING</td>\n",
       "      <td>487</td>\n",
       "      <td>1000</td>\n",
       "      <td>0.487</td>\n",
       "      <td>48.7</td>\n",
       "    </tr>\n",
       "    <tr>\n",
       "      <th>2</th>\n",
       "      <td>Laceration Of Thigh</td>\n",
       "      <td>LIVING</td>\n",
       "      <td>117</td>\n",
       "      <td>1000</td>\n",
       "      <td>0.117</td>\n",
       "      <td>11.7</td>\n",
       "    </tr>\n",
       "    <tr>\n",
       "      <th>3</th>\n",
       "      <td>Acute Viral Pharyngitis (Disorder)</td>\n",
       "      <td>LIVING</td>\n",
       "      <td>772</td>\n",
       "      <td>1000</td>\n",
       "      <td>0.772</td>\n",
       "      <td>77.2</td>\n",
       "    </tr>\n",
       "    <tr>\n",
       "      <th>4</th>\n",
       "      <td>Acute Bronchitis (Disorder)</td>\n",
       "      <td>LIVING</td>\n",
       "      <td>749</td>\n",
       "      <td>1000</td>\n",
       "      <td>0.749</td>\n",
       "      <td>74.9</td>\n",
       "    </tr>\n",
       "  </tbody>\n",
       "</table>\n",
       "</div>"
      ],
      "text/plain": [
       "                                   ITEM POPULATION TYPE  OCCURRENCES  \\\n",
       "0            Viral Sinusitis (Disorder)          LIVING          868   \n",
       "1  Streptococcal Sore Throat (Disorder)          LIVING          487   \n",
       "2                   Laceration Of Thigh          LIVING          117   \n",
       "3    Acute Viral Pharyngitis (Disorder)          LIVING          772   \n",
       "4           Acute Bronchitis (Disorder)          LIVING          749   \n",
       "\n",
       "   POPULATION COUNT  PREVALENCE RATE  PREVALENCE PERCENTAGE  \n",
       "0              1000            0.868                   86.8  \n",
       "1              1000            0.487                   48.7  \n",
       "2              1000            0.117                   11.7  \n",
       "3              1000            0.772                   77.2  \n",
       "4              1000            0.749                   74.9  "
      ]
     },
     "execution_count": 11,
     "metadata": {},
     "output_type": "execute_result"
    }
   ],
   "source": [
    "df = pd.read_csv(os.path.join(FHIR_1K_PATIENTS_PATH, \"all_prevalences.csv\"))\n",
    "df.head()"
   ]
  },
  {
   "cell_type": "code",
   "execution_count": 12,
   "metadata": {},
   "outputs": [
    {
     "name": "stdout",
     "output_type": "stream",
     "text": [
      "<class 'pandas.core.frame.DataFrame'>\n",
      "RangeIndex: 244 entries, 0 to 243\n",
      "Data columns (total 6 columns):\n",
      "ITEM                     244 non-null object\n",
      "POPULATION TYPE          244 non-null object\n",
      "OCCURRENCES              244 non-null int64\n",
      "POPULATION COUNT         244 non-null int64\n",
      "PREVALENCE RATE          244 non-null float64\n",
      "PREVALENCE PERCENTAGE    244 non-null float64\n",
      "dtypes: float64(2), int64(2), object(2)\n",
      "memory usage: 11.5+ KB\n"
     ]
    }
   ],
   "source": [
    "df.info()"
   ]
  },
  {
   "cell_type": "code",
   "execution_count": 13,
   "metadata": {},
   "outputs": [
    {
     "data": {
      "text/html": [
       "<div>\n",
       "<style scoped>\n",
       "    .dataframe tbody tr th:only-of-type {\n",
       "        vertical-align: middle;\n",
       "    }\n",
       "\n",
       "    .dataframe tbody tr th {\n",
       "        vertical-align: top;\n",
       "    }\n",
       "\n",
       "    .dataframe thead th {\n",
       "        text-align: right;\n",
       "    }\n",
       "</style>\n",
       "<table border=\"1\" class=\"dataframe\">\n",
       "  <thead>\n",
       "    <tr style=\"text-align: right;\">\n",
       "      <th></th>\n",
       "      <th>OCCURRENCES</th>\n",
       "      <th>POPULATION COUNT</th>\n",
       "      <th>PREVALENCE RATE</th>\n",
       "      <th>PREVALENCE PERCENTAGE</th>\n",
       "    </tr>\n",
       "  </thead>\n",
       "  <tbody>\n",
       "    <tr>\n",
       "      <th>count</th>\n",
       "      <td>244.000000</td>\n",
       "      <td>244.0</td>\n",
       "      <td>244.000000</td>\n",
       "      <td>244.000000</td>\n",
       "    </tr>\n",
       "    <tr>\n",
       "      <th>mean</th>\n",
       "      <td>72.819672</td>\n",
       "      <td>1000.0</td>\n",
       "      <td>0.072820</td>\n",
       "      <td>7.281967</td>\n",
       "    </tr>\n",
       "    <tr>\n",
       "      <th>std</th>\n",
       "      <td>135.550638</td>\n",
       "      <td>0.0</td>\n",
       "      <td>0.135551</td>\n",
       "      <td>13.555064</td>\n",
       "    </tr>\n",
       "    <tr>\n",
       "      <th>min</th>\n",
       "      <td>0.000000</td>\n",
       "      <td>1000.0</td>\n",
       "      <td>0.000000</td>\n",
       "      <td>0.000000</td>\n",
       "    </tr>\n",
       "    <tr>\n",
       "      <th>25%</th>\n",
       "      <td>6.000000</td>\n",
       "      <td>1000.0</td>\n",
       "      <td>0.006000</td>\n",
       "      <td>0.600000</td>\n",
       "    </tr>\n",
       "    <tr>\n",
       "      <th>50%</th>\n",
       "      <td>25.000000</td>\n",
       "      <td>1000.0</td>\n",
       "      <td>0.025000</td>\n",
       "      <td>2.500000</td>\n",
       "    </tr>\n",
       "    <tr>\n",
       "      <th>75%</th>\n",
       "      <td>70.500000</td>\n",
       "      <td>1000.0</td>\n",
       "      <td>0.070500</td>\n",
       "      <td>7.050000</td>\n",
       "    </tr>\n",
       "    <tr>\n",
       "      <th>max</th>\n",
       "      <td>868.000000</td>\n",
       "      <td>1000.0</td>\n",
       "      <td>0.868000</td>\n",
       "      <td>86.800000</td>\n",
       "    </tr>\n",
       "  </tbody>\n",
       "</table>\n",
       "</div>"
      ],
      "text/plain": [
       "       OCCURRENCES  POPULATION COUNT  PREVALENCE RATE  PREVALENCE PERCENTAGE\n",
       "count   244.000000             244.0       244.000000             244.000000\n",
       "mean     72.819672            1000.0         0.072820               7.281967\n",
       "std     135.550638               0.0         0.135551              13.555064\n",
       "min       0.000000            1000.0         0.000000               0.000000\n",
       "25%       6.000000            1000.0         0.006000               0.600000\n",
       "50%      25.000000            1000.0         0.025000               2.500000\n",
       "75%      70.500000            1000.0         0.070500               7.050000\n",
       "max     868.000000            1000.0         0.868000              86.800000"
      ]
     },
     "execution_count": 13,
     "metadata": {},
     "output_type": "execute_result"
    }
   ],
   "source": [
    "df.describe()"
   ]
  },
  {
   "cell_type": "code",
   "execution_count": 14,
   "metadata": {},
   "outputs": [
    {
     "data": {
      "text/plain": [
       "LIVING    244\n",
       "Name: POPULATION TYPE, dtype: int64"
      ]
     },
     "execution_count": 14,
     "metadata": {},
     "output_type": "execute_result"
    }
   ],
   "source": [
    "df[\"POPULATION TYPE\"].value_counts()"
   ]
  },
  {
   "cell_type": "code",
   "execution_count": 15,
   "metadata": {},
   "outputs": [
    {
     "data": {
      "text/plain": [
       "1000    244\n",
       "Name: POPULATION COUNT, dtype: int64"
      ]
     },
     "execution_count": 15,
     "metadata": {},
     "output_type": "execute_result"
    }
   ],
   "source": [
    "df[\"POPULATION COUNT\"].value_counts()"
   ]
  },
  {
   "cell_type": "markdown",
   "metadata": {},
   "source": [
    "Let's just remove population type and count columns as they don't provide any information. "
   ]
  },
  {
   "cell_type": "code",
   "execution_count": 16,
   "metadata": {},
   "outputs": [
    {
     "data": {
      "text/html": [
       "<div>\n",
       "<style scoped>\n",
       "    .dataframe tbody tr th:only-of-type {\n",
       "        vertical-align: middle;\n",
       "    }\n",
       "\n",
       "    .dataframe tbody tr th {\n",
       "        vertical-align: top;\n",
       "    }\n",
       "\n",
       "    .dataframe thead th {\n",
       "        text-align: right;\n",
       "    }\n",
       "</style>\n",
       "<table border=\"1\" class=\"dataframe\">\n",
       "  <thead>\n",
       "    <tr style=\"text-align: right;\">\n",
       "      <th></th>\n",
       "      <th>ITEM</th>\n",
       "      <th>OCCURRENCES</th>\n",
       "      <th>PREVALENCE RATE</th>\n",
       "      <th>PREVALENCE PERCENTAGE</th>\n",
       "    </tr>\n",
       "  </thead>\n",
       "  <tbody>\n",
       "    <tr>\n",
       "      <th>0</th>\n",
       "      <td>Viral Sinusitis (Disorder)</td>\n",
       "      <td>868</td>\n",
       "      <td>0.868</td>\n",
       "      <td>86.8</td>\n",
       "    </tr>\n",
       "    <tr>\n",
       "      <th>1</th>\n",
       "      <td>Streptococcal Sore Throat (Disorder)</td>\n",
       "      <td>487</td>\n",
       "      <td>0.487</td>\n",
       "      <td>48.7</td>\n",
       "    </tr>\n",
       "    <tr>\n",
       "      <th>2</th>\n",
       "      <td>Laceration Of Thigh</td>\n",
       "      <td>117</td>\n",
       "      <td>0.117</td>\n",
       "      <td>11.7</td>\n",
       "    </tr>\n",
       "    <tr>\n",
       "      <th>3</th>\n",
       "      <td>Acute Viral Pharyngitis (Disorder)</td>\n",
       "      <td>772</td>\n",
       "      <td>0.772</td>\n",
       "      <td>77.2</td>\n",
       "    </tr>\n",
       "    <tr>\n",
       "      <th>4</th>\n",
       "      <td>Acute Bronchitis (Disorder)</td>\n",
       "      <td>749</td>\n",
       "      <td>0.749</td>\n",
       "      <td>74.9</td>\n",
       "    </tr>\n",
       "  </tbody>\n",
       "</table>\n",
       "</div>"
      ],
      "text/plain": [
       "                                   ITEM  OCCURRENCES  PREVALENCE RATE  \\\n",
       "0            Viral Sinusitis (Disorder)          868            0.868   \n",
       "1  Streptococcal Sore Throat (Disorder)          487            0.487   \n",
       "2                   Laceration Of Thigh          117            0.117   \n",
       "3    Acute Viral Pharyngitis (Disorder)          772            0.772   \n",
       "4           Acute Bronchitis (Disorder)          749            0.749   \n",
       "\n",
       "   PREVALENCE PERCENTAGE  \n",
       "0                   86.8  \n",
       "1                   48.7  \n",
       "2                   11.7  \n",
       "3                   77.2  \n",
       "4                   74.9  "
      ]
     },
     "execution_count": 16,
     "metadata": {},
     "output_type": "execute_result"
    }
   ],
   "source": [
    "# axis=1 to drop columns instead of rows\n",
    "# inplace=True to modify the data frame inplace, returns None instead of the data frame\n",
    "df.drop([\"POPULATION TYPE\", \"POPULATION COUNT\"], axis=1, inplace=True)\n",
    "df.head()"
   ]
  },
  {
   "cell_type": "markdown",
   "metadata": {},
   "source": [
    "Occurrences, prevalence rate and prevalence percentage all provide the same information. Let's keep just one of them and drop others."
   ]
  },
  {
   "cell_type": "code",
   "execution_count": 17,
   "metadata": {},
   "outputs": [
    {
     "data": {
      "text/html": [
       "<div>\n",
       "<style scoped>\n",
       "    .dataframe tbody tr th:only-of-type {\n",
       "        vertical-align: middle;\n",
       "    }\n",
       "\n",
       "    .dataframe tbody tr th {\n",
       "        vertical-align: top;\n",
       "    }\n",
       "\n",
       "    .dataframe thead th {\n",
       "        text-align: right;\n",
       "    }\n",
       "</style>\n",
       "<table border=\"1\" class=\"dataframe\">\n",
       "  <thead>\n",
       "    <tr style=\"text-align: right;\">\n",
       "      <th></th>\n",
       "      <th>ITEM</th>\n",
       "      <th>OCCURRENCES</th>\n",
       "    </tr>\n",
       "  </thead>\n",
       "  <tbody>\n",
       "    <tr>\n",
       "      <th>0</th>\n",
       "      <td>Viral Sinusitis (Disorder)</td>\n",
       "      <td>868</td>\n",
       "    </tr>\n",
       "    <tr>\n",
       "      <th>1</th>\n",
       "      <td>Streptococcal Sore Throat (Disorder)</td>\n",
       "      <td>487</td>\n",
       "    </tr>\n",
       "    <tr>\n",
       "      <th>2</th>\n",
       "      <td>Laceration Of Thigh</td>\n",
       "      <td>117</td>\n",
       "    </tr>\n",
       "    <tr>\n",
       "      <th>3</th>\n",
       "      <td>Acute Viral Pharyngitis (Disorder)</td>\n",
       "      <td>772</td>\n",
       "    </tr>\n",
       "    <tr>\n",
       "      <th>4</th>\n",
       "      <td>Acute Bronchitis (Disorder)</td>\n",
       "      <td>749</td>\n",
       "    </tr>\n",
       "  </tbody>\n",
       "</table>\n",
       "</div>"
      ],
      "text/plain": [
       "                                   ITEM  OCCURRENCES\n",
       "0            Viral Sinusitis (Disorder)          868\n",
       "1  Streptococcal Sore Throat (Disorder)          487\n",
       "2                   Laceration Of Thigh          117\n",
       "3    Acute Viral Pharyngitis (Disorder)          772\n",
       "4           Acute Bronchitis (Disorder)          749"
      ]
     },
     "execution_count": 17,
     "metadata": {},
     "output_type": "execute_result"
    }
   ],
   "source": [
    "df.drop([\"PREVALENCE RATE\", \"PREVALENCE PERCENTAGE\"], axis=1, inplace=True)\n",
    "df.head()"
   ]
  },
  {
   "cell_type": "markdown",
   "metadata": {},
   "source": [
    "Items with highest and lowest prevalence rates:"
   ]
  },
  {
   "cell_type": "code",
   "execution_count": 18,
   "metadata": {},
   "outputs": [
    {
     "data": {
      "text/html": [
       "<div>\n",
       "<style scoped>\n",
       "    .dataframe tbody tr th:only-of-type {\n",
       "        vertical-align: middle;\n",
       "    }\n",
       "\n",
       "    .dataframe tbody tr th {\n",
       "        vertical-align: top;\n",
       "    }\n",
       "\n",
       "    .dataframe thead th {\n",
       "        text-align: right;\n",
       "    }\n",
       "</style>\n",
       "<table border=\"1\" class=\"dataframe\">\n",
       "  <thead>\n",
       "    <tr style=\"text-align: right;\">\n",
       "      <th></th>\n",
       "      <th>ITEM</th>\n",
       "      <th>OCCURRENCES</th>\n",
       "    </tr>\n",
       "  </thead>\n",
       "  <tbody>\n",
       "    <tr>\n",
       "      <th>0</th>\n",
       "      <td>Viral Sinusitis (Disorder)</td>\n",
       "      <td>868</td>\n",
       "    </tr>\n",
       "    <tr>\n",
       "      <th>3</th>\n",
       "      <td>Acute Viral Pharyngitis (Disorder)</td>\n",
       "      <td>772</td>\n",
       "    </tr>\n",
       "    <tr>\n",
       "      <th>4</th>\n",
       "      <td>Acute Bronchitis (Disorder)</td>\n",
       "      <td>749</td>\n",
       "    </tr>\n",
       "    <tr>\n",
       "      <th>8</th>\n",
       "      <td>Otitis Media</td>\n",
       "      <td>699</td>\n",
       "    </tr>\n",
       "    <tr>\n",
       "      <th>141</th>\n",
       "      <td>Acetaminophen 160 Mg</td>\n",
       "      <td>689</td>\n",
       "    </tr>\n",
       "    <tr>\n",
       "      <th>164</th>\n",
       "      <td>Acetaminophen 160 Mg Oral Tablet</td>\n",
       "      <td>536</td>\n",
       "    </tr>\n",
       "    <tr>\n",
       "      <th>135</th>\n",
       "      <td>Amoxicillin 250 Mg / Clavulanate 125 Mg [Augme...</td>\n",
       "      <td>534</td>\n",
       "    </tr>\n",
       "    <tr>\n",
       "      <th>1</th>\n",
       "      <td>Streptococcal Sore Throat (Disorder)</td>\n",
       "      <td>487</td>\n",
       "    </tr>\n",
       "    <tr>\n",
       "      <th>136</th>\n",
       "      <td>Penicillin V Potassium 250 Mg</td>\n",
       "      <td>390</td>\n",
       "    </tr>\n",
       "    <tr>\n",
       "      <th>139</th>\n",
       "      <td>Acetaminophen 325 Mg Oral Tablet</td>\n",
       "      <td>388</td>\n",
       "    </tr>\n",
       "  </tbody>\n",
       "</table>\n",
       "</div>"
      ],
      "text/plain": [
       "                                                  ITEM  OCCURRENCES\n",
       "0                           Viral Sinusitis (Disorder)          868\n",
       "3                   Acute Viral Pharyngitis (Disorder)          772\n",
       "4                          Acute Bronchitis (Disorder)          749\n",
       "8                                         Otitis Media          699\n",
       "141                               Acetaminophen 160 Mg          689\n",
       "164                   Acetaminophen 160 Mg Oral Tablet          536\n",
       "135  Amoxicillin 250 Mg / Clavulanate 125 Mg [Augme...          534\n",
       "1                 Streptococcal Sore Throat (Disorder)          487\n",
       "136                      Penicillin V Potassium 250 Mg          390\n",
       "139                   Acetaminophen 325 Mg Oral Tablet          388"
      ]
     },
     "execution_count": 18,
     "metadata": {},
     "output_type": "execute_result"
    }
   ],
   "source": [
    "df.nlargest(10, \"OCCURRENCES\")"
   ]
  },
  {
   "cell_type": "code",
   "execution_count": 19,
   "metadata": {},
   "outputs": [
    {
     "data": {
      "text/html": [
       "<div>\n",
       "<style scoped>\n",
       "    .dataframe tbody tr th:only-of-type {\n",
       "        vertical-align: middle;\n",
       "    }\n",
       "\n",
       "    .dataframe tbody tr th {\n",
       "        vertical-align: top;\n",
       "    }\n",
       "\n",
       "    .dataframe thead th {\n",
       "        text-align: right;\n",
       "    }\n",
       "</style>\n",
       "<table border=\"1\" class=\"dataframe\">\n",
       "  <thead>\n",
       "    <tr style=\"text-align: right;\">\n",
       "      <th></th>\n",
       "      <th>ITEM</th>\n",
       "      <th>OCCURRENCES</th>\n",
       "    </tr>\n",
       "  </thead>\n",
       "  <tbody>\n",
       "    <tr>\n",
       "      <th>13</th>\n",
       "      <td>Suspected Lung Cancer (Situation)</td>\n",
       "      <td>0</td>\n",
       "    </tr>\n",
       "    <tr>\n",
       "      <th>14</th>\n",
       "      <td>Non Small Cell Lung Cancer (Disorder)</td>\n",
       "      <td>0</td>\n",
       "    </tr>\n",
       "    <tr>\n",
       "      <th>15</th>\n",
       "      <td>Non Small Cell Carcinoma Of Lung Tnm Stage 4 (...</td>\n",
       "      <td>0</td>\n",
       "    </tr>\n",
       "    <tr>\n",
       "      <th>78</th>\n",
       "      <td>Pneumonia</td>\n",
       "      <td>0</td>\n",
       "    </tr>\n",
       "    <tr>\n",
       "      <th>81</th>\n",
       "      <td>Small Cell Carcinoma Of Lung (Disorder)</td>\n",
       "      <td>0</td>\n",
       "    </tr>\n",
       "    <tr>\n",
       "      <th>82</th>\n",
       "      <td>Primary Small Cell Malignant Neoplasm Of Lung ...</td>\n",
       "      <td>0</td>\n",
       "    </tr>\n",
       "    <tr>\n",
       "      <th>104</th>\n",
       "      <td>History Of Amputation Of Foot (Situation)</td>\n",
       "      <td>0</td>\n",
       "    </tr>\n",
       "    <tr>\n",
       "      <th>115</th>\n",
       "      <td>Non Small Cell Carcinoma Of Lung Tnm Stage 1 (...</td>\n",
       "      <td>0</td>\n",
       "    </tr>\n",
       "    <tr>\n",
       "      <th>126</th>\n",
       "      <td>Non Small Cell Carcinoma Of Lung Tnm Stage 3 (...</td>\n",
       "      <td>0</td>\n",
       "    </tr>\n",
       "    <tr>\n",
       "      <th>127</th>\n",
       "      <td>Burn Injury(Morphologic Abnormality)</td>\n",
       "      <td>0</td>\n",
       "    </tr>\n",
       "  </tbody>\n",
       "</table>\n",
       "</div>"
      ],
      "text/plain": [
       "                                                  ITEM  OCCURRENCES\n",
       "13                   Suspected Lung Cancer (Situation)            0\n",
       "14               Non Small Cell Lung Cancer (Disorder)            0\n",
       "15   Non Small Cell Carcinoma Of Lung Tnm Stage 4 (...            0\n",
       "78                                           Pneumonia            0\n",
       "81             Small Cell Carcinoma Of Lung (Disorder)            0\n",
       "82   Primary Small Cell Malignant Neoplasm Of Lung ...            0\n",
       "104          History Of Amputation Of Foot (Situation)            0\n",
       "115  Non Small Cell Carcinoma Of Lung Tnm Stage 1 (...            0\n",
       "126  Non Small Cell Carcinoma Of Lung Tnm Stage 3 (...            0\n",
       "127               Burn Injury(Morphologic Abnormality)            0"
      ]
     },
     "execution_count": 19,
     "metadata": {},
     "output_type": "execute_result"
    }
   ],
   "source": [
    "df.nsmallest(10, \"OCCURRENCES\")"
   ]
  },
  {
   "cell_type": "markdown",
   "metadata": {},
   "source": [
    "Items are disorders, situations, medication..."
   ]
  },
  {
   "cell_type": "code",
   "execution_count": 20,
   "metadata": {},
   "outputs": [],
   "source": [
    "df.to_csv(os.path.join(FHIR_1K_PATIENTS_PATH, \"stripped_prevalences.csv\"))"
   ]
  },
  {
   "cell_type": "code",
   "execution_count": 21,
   "metadata": {},
   "outputs": [
    {
     "name": "stdout",
     "output_type": "stream",
     "text": [
      "1k-patients.zip          all_prevalences.csv      stripped_prevalences.csv\n",
      "\u001b[34m__MACOSX\u001b[m\u001b[m                 \u001b[34mfhir\u001b[m\u001b[m\n"
     ]
    }
   ],
   "source": [
    "!ls {FHIR_1K_PATIENTS_PATH}"
   ]
  },
  {
   "cell_type": "markdown",
   "metadata": {},
   "source": [
    "### Exploring JSONs"
   ]
  },
  {
   "cell_type": "code",
   "execution_count": 22,
   "metadata": {},
   "outputs": [],
   "source": [
    "import pandas as pd\n",
    "import seaborn as sns\n",
    "import matplotlib.pyplot as plt\n",
    "import altair as alt"
   ]
  },
  {
   "cell_type": "markdown",
   "metadata": {},
   "source": [
    "Questions to ask?\n",
    "Examples:\n",
    "\n",
    "What types of cars are most likely to be pulled over for speeding?\n",
    "What times of day are police most active?\n",
    "How common are \"speed traps\"? Or are tickets spread pretty evenly in terms of geography?\n",
    "What are the most common things people are pulled over for?"
   ]
  },
  {
   "cell_type": "markdown",
   "metadata": {},
   "source": [
    "Let's see what kind of structure a FHIR JSON has. Let's first find the smallest JSON."
   ]
  },
  {
   "cell_type": "code",
   "execution_count": 23,
   "metadata": {},
   "outputs": [
    {
     "name": "stdout",
     "output_type": "stream",
     "text": [
      "total 575808\n",
      "-rw-r--r--  1 antti  staff    8858 Nov  9 16:00 Pfannerstill249_Richelle643_0.json\n",
      "-rw-r--r--  1 antti  staff   13835 Nov  9 16:00 Hamill916_Donette817_0.json\n",
      "-rw-r--r--  1 antti  staff   15134 Nov  9 16:00 Herzog829_Delana160_0.json\n"
     ]
    }
   ],
   "source": [
    "JSONS_PATH = os.path.join(FHIR_1K_PATIENTS_PATH, \"fhir\")\n",
    "!ls -lSr {JSONS_PATH} | head -4"
   ]
  },
  {
   "cell_type": "code",
   "execution_count": 40,
   "metadata": {},
   "outputs": [],
   "source": [
    "JSON_PATH = os.path.join(JSONS_PATH, \"Pfannerstill249_Richelle643_0.json\")\n",
    "!head {JSON_PATH}"
   ]
  },
  {
   "cell_type": "markdown",
   "metadata": {},
   "source": [
    "https://www.dataquest.io/blog/python-json-tutorial/\n",
    "\"From this, we can tell that the JSON data is a dictionary, and is well formatted. rypw is a top level key, and is indented two spaces.\""
   ]
  },
  {
   "cell_type": "code",
   "execution_count": 25,
   "metadata": {},
   "outputs": [],
   "source": [
    "import json\n",
    "from pandas.io.json import json_normalize"
   ]
  },
  {
   "cell_type": "code",
   "execution_count": 44,
   "metadata": {},
   "outputs": [],
   "source": [
    "with open(JSON_PATH) as json_data:\n",
    "    d = json.load(json_data)"
   ]
  },
  {
   "cell_type": "code",
   "execution_count": 45,
   "metadata": {},
   "outputs": [
    {
     "data": {
      "text/plain": [
       "dict"
      ]
     },
     "execution_count": 45,
     "metadata": {},
     "output_type": "execute_result"
    }
   ],
   "source": [
    "type(d)"
   ]
  },
  {
   "cell_type": "code",
   "execution_count": 50,
   "metadata": {},
   "outputs": [
    {
     "data": {
      "text/plain": [
       "dict_keys(['type', 'entry', 'resourceType'])"
      ]
     },
     "execution_count": 50,
     "metadata": {},
     "output_type": "execute_result"
    }
   ],
   "source": [
    "d.keys()"
   ]
  },
  {
   "cell_type": "code",
   "execution_count": 59,
   "metadata": {},
   "outputs": [
    {
     "data": {
      "text/plain": [
       "'collection'"
      ]
     },
     "execution_count": 59,
     "metadata": {},
     "output_type": "execute_result"
    }
   ],
   "source": [
    "d['type']"
   ]
  },
  {
   "cell_type": "markdown",
   "metadata": {},
   "source": [
    "collection\tCollection\tThe bundle is a set of resources collected into a single package for ease of distribution.\n",
    "https://www.hl7.org/fhir/valueset-bundle-type.html"
   ]
  },
  {
   "cell_type": "code",
   "execution_count": 60,
   "metadata": {},
   "outputs": [
    {
     "data": {
      "text/plain": [
       "'Bundle'"
      ]
     },
     "execution_count": 60,
     "metadata": {},
     "output_type": "execute_result"
    }
   ],
   "source": [
    "d['resourceType']"
   ]
  },
  {
   "cell_type": "code",
   "execution_count": 62,
   "metadata": {},
   "outputs": [],
   "source": [
    "#d['entry']"
   ]
  },
  {
   "cell_type": "code",
   "execution_count": 64,
   "metadata": {},
   "outputs": [
    {
     "data": {
      "text/html": [
       "<div>\n",
       "<style scoped>\n",
       "    .dataframe tbody tr th:only-of-type {\n",
       "        vertical-align: middle;\n",
       "    }\n",
       "\n",
       "    .dataframe tbody tr th {\n",
       "        vertical-align: top;\n",
       "    }\n",
       "\n",
       "    .dataframe thead th {\n",
       "        text-align: right;\n",
       "    }\n",
       "</style>\n",
       "<table border=\"1\" class=\"dataframe\">\n",
       "  <thead>\n",
       "    <tr style=\"text-align: right;\">\n",
       "      <th></th>\n",
       "      <th>fullUrl</th>\n",
       "      <th>resource.address</th>\n",
       "      <th>resource.birthDate</th>\n",
       "      <th>resource.category</th>\n",
       "      <th>resource.code.coding</th>\n",
       "      <th>resource.code.text</th>\n",
       "      <th>resource.communication</th>\n",
       "      <th>resource.effectiveDateTime</th>\n",
       "      <th>resource.extension</th>\n",
       "      <th>resource.gender</th>\n",
       "      <th>...</th>\n",
       "      <th>resource.status</th>\n",
       "      <th>resource.subject.reference</th>\n",
       "      <th>resource.telecom</th>\n",
       "      <th>resource.text.div</th>\n",
       "      <th>resource.text.status</th>\n",
       "      <th>resource.type</th>\n",
       "      <th>resource.valueQuantity.code</th>\n",
       "      <th>resource.valueQuantity.system</th>\n",
       "      <th>resource.valueQuantity.unit</th>\n",
       "      <th>resource.valueQuantity.value</th>\n",
       "    </tr>\n",
       "  </thead>\n",
       "  <tbody>\n",
       "    <tr>\n",
       "      <th>0</th>\n",
       "      <td>urn:uuid:94bec074-5c4b-440c-ba5e-409cd9a896a6</td>\n",
       "      <td>NaN</td>\n",
       "      <td>NaN</td>\n",
       "      <td>NaN</td>\n",
       "      <td>NaN</td>\n",
       "      <td>NaN</td>\n",
       "      <td>NaN</td>\n",
       "      <td>NaN</td>\n",
       "      <td>NaN</td>\n",
       "      <td>NaN</td>\n",
       "      <td>...</td>\n",
       "      <td>NaN</td>\n",
       "      <td>NaN</td>\n",
       "      <td>NaN</td>\n",
       "      <td>NaN</td>\n",
       "      <td>NaN</td>\n",
       "      <td>[{'coding': [{'system': 'http://hl7.org/fhir/o...</td>\n",
       "      <td>NaN</td>\n",
       "      <td>NaN</td>\n",
       "      <td>NaN</td>\n",
       "      <td>NaN</td>\n",
       "    </tr>\n",
       "    <tr>\n",
       "      <th>1</th>\n",
       "      <td>urn:uuid:ecdaa313-efc9-4080-aee1-aa212271ddbf</td>\n",
       "      <td>[{'extension': [{'extension': [{'url': 'latitu...</td>\n",
       "      <td>2017-11-07</td>\n",
       "      <td>NaN</td>\n",
       "      <td>NaN</td>\n",
       "      <td>NaN</td>\n",
       "      <td>[{'language': {'coding': [{'system': 'http://h...</td>\n",
       "      <td>NaN</td>\n",
       "      <td>[{'url': 'http://hl7.org/fhir/us/core/Structur...</td>\n",
       "      <td>female</td>\n",
       "      <td>...</td>\n",
       "      <td>NaN</td>\n",
       "      <td>NaN</td>\n",
       "      <td>[{'system': 'phone', 'value': '864-009-1257', ...</td>\n",
       "      <td>&lt;div xmlns=\"http://www.w3.org/1999/xhtml\"&gt;Gene...</td>\n",
       "      <td>generated</td>\n",
       "      <td>NaN</td>\n",
       "      <td>NaN</td>\n",
       "      <td>NaN</td>\n",
       "      <td>NaN</td>\n",
       "      <td>NaN</td>\n",
       "    </tr>\n",
       "    <tr>\n",
       "      <th>2</th>\n",
       "      <td>urn:uuid:f6176648-8ccd-4fd3-b67e-06de4a84fced</td>\n",
       "      <td>NaN</td>\n",
       "      <td>NaN</td>\n",
       "      <td>[{'coding': [{'system': 'http://hl7.org/fhir/o...</td>\n",
       "      <td>[{'system': 'http://snomed.info/sct', 'code': ...</td>\n",
       "      <td>Quality adjusted life years</td>\n",
       "      <td>NaN</td>\n",
       "      <td>2017-10-31T16:09:28-04:00</td>\n",
       "      <td>NaN</td>\n",
       "      <td>NaN</td>\n",
       "      <td>...</td>\n",
       "      <td>final</td>\n",
       "      <td>urn:uuid:ecdaa313-efc9-4080-aee1-aa212271ddbf</td>\n",
       "      <td>NaN</td>\n",
       "      <td>NaN</td>\n",
       "      <td>NaN</td>\n",
       "      <td>NaN</td>\n",
       "      <td>years</td>\n",
       "      <td>http://unitsofmeasure.org/</td>\n",
       "      <td>years</td>\n",
       "      <td>0.0</td>\n",
       "    </tr>\n",
       "    <tr>\n",
       "      <th>3</th>\n",
       "      <td>urn:uuid:fae912c9-db09-4428-a769-3a4a18c2ef0e</td>\n",
       "      <td>NaN</td>\n",
       "      <td>NaN</td>\n",
       "      <td>[{'coding': [{'system': 'http://hl7.org/fhir/o...</td>\n",
       "      <td>[{'system': 'http://snomed.info/sct', 'code': ...</td>\n",
       "      <td>Disability rating scale</td>\n",
       "      <td>NaN</td>\n",
       "      <td>2017-10-31T16:09:28-04:00</td>\n",
       "      <td>NaN</td>\n",
       "      <td>NaN</td>\n",
       "      <td>...</td>\n",
       "      <td>final</td>\n",
       "      <td>urn:uuid:ecdaa313-efc9-4080-aee1-aa212271ddbf</td>\n",
       "      <td>NaN</td>\n",
       "      <td>NaN</td>\n",
       "      <td>NaN</td>\n",
       "      <td>NaN</td>\n",
       "      <td>years</td>\n",
       "      <td>http://unitsofmeasure.org/</td>\n",
       "      <td>years</td>\n",
       "      <td>0.0</td>\n",
       "    </tr>\n",
       "  </tbody>\n",
       "</table>\n",
       "<p>4 rows × 30 columns</p>\n",
       "</div>"
      ],
      "text/plain": [
       "                                         fullUrl  \\\n",
       "0  urn:uuid:94bec074-5c4b-440c-ba5e-409cd9a896a6   \n",
       "1  urn:uuid:ecdaa313-efc9-4080-aee1-aa212271ddbf   \n",
       "2  urn:uuid:f6176648-8ccd-4fd3-b67e-06de4a84fced   \n",
       "3  urn:uuid:fae912c9-db09-4428-a769-3a4a18c2ef0e   \n",
       "\n",
       "                                    resource.address resource.birthDate  \\\n",
       "0                                                NaN                NaN   \n",
       "1  [{'extension': [{'extension': [{'url': 'latitu...         2017-11-07   \n",
       "2                                                NaN                NaN   \n",
       "3                                                NaN                NaN   \n",
       "\n",
       "                                   resource.category  \\\n",
       "0                                                NaN   \n",
       "1                                                NaN   \n",
       "2  [{'coding': [{'system': 'http://hl7.org/fhir/o...   \n",
       "3  [{'coding': [{'system': 'http://hl7.org/fhir/o...   \n",
       "\n",
       "                                resource.code.coding  \\\n",
       "0                                                NaN   \n",
       "1                                                NaN   \n",
       "2  [{'system': 'http://snomed.info/sct', 'code': ...   \n",
       "3  [{'system': 'http://snomed.info/sct', 'code': ...   \n",
       "\n",
       "            resource.code.text  \\\n",
       "0                          NaN   \n",
       "1                          NaN   \n",
       "2  Quality adjusted life years   \n",
       "3      Disability rating scale   \n",
       "\n",
       "                              resource.communication  \\\n",
       "0                                                NaN   \n",
       "1  [{'language': {'coding': [{'system': 'http://h...   \n",
       "2                                                NaN   \n",
       "3                                                NaN   \n",
       "\n",
       "  resource.effectiveDateTime  \\\n",
       "0                        NaN   \n",
       "1                        NaN   \n",
       "2  2017-10-31T16:09:28-04:00   \n",
       "3  2017-10-31T16:09:28-04:00   \n",
       "\n",
       "                                  resource.extension resource.gender  \\\n",
       "0                                                NaN             NaN   \n",
       "1  [{'url': 'http://hl7.org/fhir/us/core/Structur...          female   \n",
       "2                                                NaN             NaN   \n",
       "3                                                NaN             NaN   \n",
       "\n",
       "              ...              resource.status  \\\n",
       "0             ...                          NaN   \n",
       "1             ...                          NaN   \n",
       "2             ...                        final   \n",
       "3             ...                        final   \n",
       "\n",
       "                      resource.subject.reference  \\\n",
       "0                                            NaN   \n",
       "1                                            NaN   \n",
       "2  urn:uuid:ecdaa313-efc9-4080-aee1-aa212271ddbf   \n",
       "3  urn:uuid:ecdaa313-efc9-4080-aee1-aa212271ddbf   \n",
       "\n",
       "                                    resource.telecom  \\\n",
       "0                                                NaN   \n",
       "1  [{'system': 'phone', 'value': '864-009-1257', ...   \n",
       "2                                                NaN   \n",
       "3                                                NaN   \n",
       "\n",
       "                                   resource.text.div resource.text.status  \\\n",
       "0                                                NaN                  NaN   \n",
       "1  <div xmlns=\"http://www.w3.org/1999/xhtml\">Gene...            generated   \n",
       "2                                                NaN                  NaN   \n",
       "3                                                NaN                  NaN   \n",
       "\n",
       "                                       resource.type  \\\n",
       "0  [{'coding': [{'system': 'http://hl7.org/fhir/o...   \n",
       "1                                                NaN   \n",
       "2                                                NaN   \n",
       "3                                                NaN   \n",
       "\n",
       "  resource.valueQuantity.code resource.valueQuantity.system  \\\n",
       "0                         NaN                           NaN   \n",
       "1                         NaN                           NaN   \n",
       "2                       years    http://unitsofmeasure.org/   \n",
       "3                       years    http://unitsofmeasure.org/   \n",
       "\n",
       "  resource.valueQuantity.unit resource.valueQuantity.value  \n",
       "0                         NaN                          NaN  \n",
       "1                         NaN                          NaN  \n",
       "2                       years                          0.0  \n",
       "3                       years                          0.0  \n",
       "\n",
       "[4 rows x 30 columns]"
      ]
     },
     "execution_count": 64,
     "metadata": {},
     "output_type": "execute_result"
    }
   ],
   "source": [
    "bundle_df = json_normalize(d['entry'])\n",
    "bundle_df.head()"
   ]
  },
  {
   "cell_type": "markdown",
   "metadata": {},
   "source": [
    "https://www.kaggle.com/jboysen/quick-tutorial-flatten-nested-json-in-pandas\n",
    "\"We see more nested columns: resource.category etc.. json_normalize docs give us some hints how to flatten semi-structured data further. Let's unpack the works column into a standalone dataframe. We'll also grab the flat columns so we can do analysis. \""
   ]
  },
  {
   "cell_type": "code",
   "execution_count": null,
   "metadata": {},
   "outputs": [],
   "source": []
  }
 ],
 "metadata": {
  "kernelspec": {
   "display_name": "Python 3",
   "language": "python",
   "name": "python3"
  },
  "language_info": {
   "codemirror_mode": {
    "name": "ipython",
    "version": 3
   },
   "file_extension": ".py",
   "mimetype": "text/x-python",
   "name": "python",
   "nbconvert_exporter": "python",
   "pygments_lexer": "ipython3",
   "version": "3.7.0"
  }
 },
 "nbformat": 4,
 "nbformat_minor": 2
}
